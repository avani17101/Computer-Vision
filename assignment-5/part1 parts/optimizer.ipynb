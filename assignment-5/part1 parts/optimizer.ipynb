{
 "cells": [
  {
   "cell_type": "code",
   "execution_count": 1,
   "metadata": {},
   "outputs": [],
   "source": [
    "import pandas as pd\n",
    "import torch\n",
    "from torch import nn\n",
    "from torch.utils.data import Dataset, DataLoader\n",
    "import torch.nn.functional as F\n",
    "from torchvision.io import read_image\n",
    "from torchvision import models, transforms\n",
    "import time\n",
    "import numpy as np\n",
    "import matplotlib.pyplot as plt\n",
    "from sklearn.utils import shuffle"
   ]
  },
  {
   "cell_type": "code",
   "execution_count": 2,
   "metadata": {},
   "outputs": [],
   "source": [
    "f = open(\"data/dataset_info.txt\", \"r\")\n",
    "labels = f.readlines()[1:]\n",
    "f.close()\n",
    "\n",
    "name_label = {}\n",
    "lb_list = []\n",
    "\n",
    "for i in range(len(labels)):\n",
    "    lb = labels[i].replace(\"\\n\", \"\").strip().split(\". \")[1]\n",
    "    lb_list.append(lb)\n",
    "    name_label[lb] = 0\n",
    "    \n",
    "for i in range(len(lb_list)):\n",
    "    name_label[lb_list[i]] += i\n",
    "    \n",
    "label_name = list(name_label.keys())\n"
   ]
  },
  {
   "cell_type": "code",
   "execution_count": 3,
   "metadata": {},
   "outputs": [],
   "source": [
    "class LoadImageDataset(Dataset):\n",
    "    def __init__(self, imgname_labels_file, img_dir, transform_data = None, typee = 'train',train = True):\n",
    "        self.df_imgname_labels = pd.read_csv(imgname_labels_file)\n",
    "        self.df_imgname_labels = shuffle(self.df_imgname_labels)\n",
    "        if(typee == 'train'):\n",
    "            self.df_imgname_labels = self.df_imgname_labels[:9000]\n",
    "        if(typee == 'val'):\n",
    "            self.df_imgname_labels = self.df_imgname_labels[9000:]\n",
    "        \n",
    "        \n",
    "        self.img_dir = img_dir\n",
    "        self.transform_data =  transform_data\n",
    "        self.train = train\n",
    "        \n",
    "    def __len__(self):\n",
    "        return len(self.df_imgname_labels)\n",
    "    \n",
    "    def __getitem__(self, idx):\n",
    "        path = self.img_dir + self.df_imgname_labels.iloc[idx, 0]\n",
    "        img =  read_image(path)/ 255.\n",
    "        result = {\"image\": img, \"label\": -1}\n",
    "        if self.train:\n",
    "            lb = self.df_imgname_labels.iloc[idx, 1]\n",
    "            result[\"label\"] = lb\n",
    "            if self.transform_data:\n",
    "                result[\"label\"] = self.transform_data['labels'](result[\"label\"])\n",
    "                result[\"image\"] = self.transform_data['images'](result[\"image\"])\n",
    "        else:\n",
    "            lb = 0\n",
    "            result[\"label\"] = lb\n",
    "            if self.transform_data: \n",
    "                result[\"image\"] = self.transform_data['images'](result[\"image\"])\n",
    "        \n",
    "        return result"
   ]
  },
  {
   "cell_type": "code",
   "execution_count": 4,
   "metadata": {},
   "outputs": [],
   "source": [
    "class MyNetwork(nn.Module):\n",
    "    def __init__(self):\n",
    "        super(MyNetwork, self).__init__()\n",
    "        self.model = nn.Sequential(\n",
    "            nn.Conv2d(in_channels = 3, out_channels = 6, kernel_size = 5),\n",
    "            nn.ReLU(),\n",
    "            nn.BatchNorm2d(num_features = 6),\n",
    "            nn.MaxPool2d(kernel_size = (4,4)),\n",
    "           \n",
    "            nn.Conv2d(in_channels = 6, out_channels = 16, kernel_size = 5),\n",
    "            nn.ReLU(),\n",
    "            nn.BatchNorm2d(num_features = 16),\n",
    "            nn.MaxPool2d(kernel_size = (4,4)),\n",
    "            nn.Flatten(),\n",
    "            \n",
    "            nn.Linear(in_features = 2304, out_features = 1024, bias=True),\n",
    "            nn.ReLU(),\n",
    "            nn.Linear(in_features = 1024, out_features = len(name_label), bias = True),\n",
    "        )\n",
    "    def forward(self, x):\n",
    "        return self.model(x)"
   ]
  },
  {
   "cell_type": "markdown",
   "metadata": {},
   "source": [
    "## Different optimizer"
   ]
  },
  {
   "cell_type": "code",
   "execution_count": 5,
   "metadata": {},
   "outputs": [
    {
     "name": "stdout",
     "output_type": "stream",
     "text": [
      "Using cuda device\n",
      "MyNetwork(\n",
      "  (model): Sequential(\n",
      "    (0): Conv2d(3, 6, kernel_size=(5, 5), stride=(1, 1))\n",
      "    (1): ReLU()\n",
      "    (2): BatchNorm2d(6, eps=1e-05, momentum=0.1, affine=True, track_running_stats=True)\n",
      "    (3): MaxPool2d(kernel_size=(4, 4), stride=(4, 4), padding=0, dilation=1, ceil_mode=False)\n",
      "    (4): Conv2d(6, 16, kernel_size=(5, 5), stride=(1, 1))\n",
      "    (5): ReLU()\n",
      "    (6): BatchNorm2d(16, eps=1e-05, momentum=0.1, affine=True, track_running_stats=True)\n",
      "    (7): MaxPool2d(kernel_size=(4, 4), stride=(4, 4), padding=0, dilation=1, ceil_mode=False)\n",
      "    (8): Flatten(start_dim=1, end_dim=-1)\n",
      "    (9): Linear(in_features=2304, out_features=1024, bias=True)\n",
      "    (10): ReLU()\n",
      "    (11): Linear(in_features=1024, out_features=62, bias=True)\n",
      "  )\n",
      ")\n",
      "Epoch: 1 | loss: 0.41992390183607736 | val loss: 0.36724531318381104\n",
      "Epoch: 2 | loss: 0.36424164634280737 | val loss: 0.3354800876818205\n",
      "Epoch: 3 | loss: 0.33596330179108513 | val loss: 0.3148059199099939\n",
      "Epoch: 4 | loss: 0.3119335950348112 | val loss: 0.29592502855295\n",
      "Epoch: 5 | loss: 0.2913714400662316 | val loss: 0.27889685438882456\n",
      "Epoch: 6 | loss: 0.2710718082918061 | val loss: 0.2527747309244823\n",
      "Epoch: 7 | loss: 0.2532936051487923 | val loss: 0.23898542296406655\n",
      "Epoch: 8 | loss: 0.23516043331887987 | val loss: 0.2206624602385719\n",
      "Epoch: 9 | loss: 0.21798955692185296 | val loss: 0.20789820232627562\n",
      "Epoch: 10 | loss: 0.20114450946119097 | val loss: 0.18418827828238993\n"
     ]
    },
    {
     "data": {
      "image/png": "[encoded data removed]",
      "text/plain": [
       "<Figure size 432x288 with 1 Axes>"
      ]
     },
     "metadata": {
      "needs_background": "light"
     },
     "output_type": "display_data"
    }
   ],
   "source": [
    "def train(type_optimizer= 'Adam', path = \"data/\", batch_size = 8, epochs = 20):\n",
    "    loss_arr = []\n",
    "    val_loss_arr = []\n",
    "     \n",
    "    if torch.cuda.is_available():\n",
    "        device = \"cuda\"\n",
    "    else:\n",
    "        device = \"cpu\"\n",
    "    print(\"Using {} device\".format(device))\n",
    "    model = MyNetwork().to(device)\n",
    "    print(model)\n",
    "    \n",
    "    transform_data =  {\n",
    "        'images': \n",
    "                transforms.Compose([\n",
    "                transforms.Resize((256, 256), interpolation = transforms.functional.InterpolationMode.BICUBIC),\n",
    "                transforms.CenterCrop((224, 224)),\n",
    "                transforms.Normalize(mean=[0.485, 0.456, 0.406], std=[0.229, 0.224, 0.225]),\n",
    "                ]),\n",
    "        'labels': \n",
    "                transforms.Compose([\n",
    "                transforms.Lambda(lambda y: name_label[y])\n",
    "                ])\n",
    "    }\n",
    "    optimizer = torch.optim.Adam(model.parameters(), lr=1e-3, weight_decay=1e-4)\n",
    "    if(type_optimizer == 'Adagrad'):\n",
    "        optimizer = torch.optim.Adagrad(model.parameters(), lr=1e-3, weight_decay=1e-4)\n",
    "    if(type_optimizer == 'SGD'):\n",
    "        optimizer = torch.optim.SGD(model.parameters(), lr=0.01, momentum=0.9)\n",
    "    if(type_optimizer == 'RMSprop'):\n",
    "        optimizer = torch.optim.RMSprop(model.parameters(), lr=0.01, alpha=0.99, eps=1e-08, weight_decay=0, momentum=0, centered=False)\n",
    "    \n",
    "    train_dataloader = DataLoader(LoadImageDataset(path + \"train.csv\", path + \"train_images/\", transform_data), batch_size = batch_size,  num_workers=2, shuffle=True)\n",
    "    val_dataloader = DataLoader(LoadImageDataset(path + \"train.csv\", path + \"train_images/\", transform_data, typee='val'), batch_size = batch_size,  num_workers=2, shuffle=True)\n",
    "    loss_fun = nn.CrossEntropyLoss()\n",
    "    \n",
    "\n",
    "    for epoch in range(epochs):\n",
    "        total_loss = 0\n",
    "        val_loss = 0\n",
    "        \n",
    "        for dic in train_dataloader:\n",
    "            X = dic[\"image\"].to(device)\n",
    "            y = dic[\"label\"].to(device)\n",
    "            \n",
    "            # forward pass\n",
    "            y_preds = model(X)\n",
    "#             print(y_preds.shape)\n",
    "            loss = loss_fun(y_preds, y)\n",
    "            \n",
    "            # backpropagation\n",
    "            optimizer.zero_grad()\n",
    "            loss.backward()\n",
    "            optimizer.step()\n",
    "\n",
    "            total_loss += loss.item()\n",
    "           \n",
    "        for dic in val_dataloader:\n",
    "            X = dic[\"image\"].to(device)\n",
    "            y = dic[\"label\"].to(device)\n",
    "\n",
    "            y_preds = model(X)\n",
    "            loss = loss_fun(y_preds, y)\n",
    "            val_loss += loss.item()\n",
    "        \n",
    "        \n",
    "        total_loss /= len(train_dataloader.dataset)\n",
    "        val_loss /= len(val_dataloader.dataset)\n",
    "        loss_arr.append(total_loss)\n",
    "        val_loss_arr.append(val_loss)\n",
    "        \n",
    "        print(\"Epoch: \"+ str(epoch+1) + \" | loss: \"+str(total_loss) + \" | val loss: \"+str(val_loss), flush = True)\n",
    "    \n",
    "    return loss_arr, val_loss_arr\n",
    "\n",
    "\n",
    "\n",
    "def plot(loss_arr, val_loss_arr):\n",
    "    ind = np.arange(1, len(loss_arr)+1)\n",
    "    plt.plot(ind, np.array(loss_arr))\n",
    "    plt.plot(ind, np.array(val_loss_arr))\n",
    "    plt.legend(['Train', 'Val'], loc='upper left')\n",
    "\n",
    "    \n",
    "epochs = 10\n",
    "\n",
    "loss_arr, val_loss_arr= train(type_optimizer='Adagrad', epochs = epochs)\n",
    "plot(loss_arr, val_loss_arr)\n"
   ]
  },
  {
   "cell_type": "code",
   "execution_count": 6,
   "metadata": {},
   "outputs": [
    {
     "name": "stdout",
     "output_type": "stream",
     "text": [
      "Using cuda device\n",
      "MyNetwork(\n",
      "  (model): Sequential(\n",
      "    (0): Conv2d(3, 6, kernel_size=(5, 5), stride=(1, 1))\n",
      "    (1): ReLU()\n",
      "    (2): BatchNorm2d(6, eps=1e-05, momentum=0.1, affine=True, track_running_stats=True)\n",
      "    (3): MaxPool2d(kernel_size=(4, 4), stride=(4, 4), padding=0, dilation=1, ceil_mode=False)\n",
      "    (4): Conv2d(6, 16, kernel_size=(5, 5), stride=(1, 1))\n",
      "    (5): ReLU()\n",
      "    (6): BatchNorm2d(16, eps=1e-05, momentum=0.1, affine=True, track_running_stats=True)\n",
      "    (7): MaxPool2d(kernel_size=(4, 4), stride=(4, 4), padding=0, dilation=1, ceil_mode=False)\n",
      "    (8): Flatten(start_dim=1, end_dim=-1)\n",
      "    (9): Linear(in_features=2304, out_features=1024, bias=True)\n",
      "    (10): ReLU()\n",
      "    (11): Linear(in_features=1024, out_features=62, bias=True)\n",
      "  )\n",
      ")\n",
      "Epoch: 1 | loss: 0.4467097220818202 | val loss: 0.39512459560075414\n",
      "Epoch: 2 | loss: 0.38729079192214544 | val loss: 0.370070686281281\n",
      "Epoch: 3 | loss: 0.36342965512805514 | val loss: 0.35218047726634116\n",
      "Epoch: 4 | loss: 0.34266882814301386 | val loss: 0.3143760877497056\n",
      "Epoch: 5 | loss: 0.31811335962348514 | val loss: 0.29443565278599504\n",
      "Epoch: 6 | loss: 0.2933479200469123 | val loss: 0.24897624741397775\n",
      "Epoch: 7 | loss: 0.26567838346295886 | val loss: 0.225066274496793\n",
      "Epoch: 8 | loss: 0.23174532557527225 | val loss: 0.22203687543839493\n",
      "Epoch: 9 | loss: 0.19695836737089686 | val loss: 0.15525764549848833\n",
      "Epoch: 10 | loss: 0.15919031603965494 | val loss: 0.12745411784010405\n"
     ]
    },
    {
     "data": {
      "image/png": "[encoded data removed]",
      "text/plain": [
       "<Figure size 432x288 with 1 Axes>"
      ]
     },
     "metadata": {
      "needs_background": "light"
     },
     "output_type": "display_data"
    }
   ],
   "source": [
    "loss_arr, val_loss_arr= train(type_optimizer='RMSProp', epochs = epochs)\n",
    "plot(loss_arr, val_loss_arr)"
   ]
  },
  {
   "cell_type": "code",
   "execution_count": 7,
   "metadata": {},
   "outputs": [
    {
     "name": "stdout",
     "output_type": "stream",
     "text": [
      "Using cuda device\n",
      "MyNetwork(\n",
      "  (model): Sequential(\n",
      "    (0): Conv2d(3, 6, kernel_size=(5, 5), stride=(1, 1))\n",
      "    (1): ReLU()\n",
      "    (2): BatchNorm2d(6, eps=1e-05, momentum=0.1, affine=True, track_running_stats=True)\n",
      "    (3): MaxPool2d(kernel_size=(4, 4), stride=(4, 4), padding=0, dilation=1, ceil_mode=False)\n",
      "    (4): Conv2d(6, 16, kernel_size=(5, 5), stride=(1, 1))\n",
      "    (5): ReLU()\n",
      "    (6): BatchNorm2d(16, eps=1e-05, momentum=0.1, affine=True, track_running_stats=True)\n",
      "    (7): MaxPool2d(kernel_size=(4, 4), stride=(4, 4), padding=0, dilation=1, ceil_mode=False)\n",
      "    (8): Flatten(start_dim=1, end_dim=-1)\n",
      "    (9): Linear(in_features=2304, out_features=1024, bias=True)\n",
      "    (10): ReLU()\n",
      "    (11): Linear(in_features=1024, out_features=62, bias=True)\n",
      "  )\n",
      ")\n",
      "Epoch: 1 | loss: 0.4292042731841405 | val loss: 0.4014710752587569\n",
      "Epoch: 2 | loss: 0.3875765555434757 | val loss: 0.3714241427902836\n",
      "Epoch: 3 | loss: 0.36569008258978525 | val loss: 0.3464077249769087\n",
      "Epoch: 4 | loss: 0.3454659568733639 | val loss: 0.3369767156547806\n",
      "Epoch: 5 | loss: 0.3218719263209237 | val loss: 0.2823616103860247\n",
      "Epoch: 6 | loss: 0.2997295225130187 | val loss: 0.2946220909478864\n",
      "Epoch: 7 | loss: 0.281717715849479 | val loss: 0.2241098076197385\n",
      "Epoch: 8 | loss: 0.2757998199843698 | val loss: 0.24923660915241153\n",
      "Epoch: 9 | loss: 0.2636067873554097 | val loss: 0.18511630853078684\n",
      "Epoch: 10 | loss: 0.2523266697542535 | val loss: 0.21378723770126284\n"
     ]
    },
    {
     "data": {
      "image/png": "[encoded data removed]",
      "text/plain": [
       "<Figure size 432x288 with 1 Axes>"
      ]
     },
     "metadata": {
      "needs_background": "light"
     },
     "output_type": "display_data"
    }
   ],
   "source": [
    "loss_arr, val_loss_arr= train(type_optimizer='SGD', epochs = epochs)\n",
    "plot(loss_arr, val_loss_arr)"
   ]
  }
 ],
 "metadata": {
  "kernelspec": {
   "display_name": "Python 3",
   "language": "python",
   "name": "python3"
  },
  "language_info": {
   "codemirror_mode": {
    "name": "ipython",
    "version": 3
   },
   "file_extension": ".py",
   "mimetype": "text/x-python",
   "name": "python",
   "nbconvert_exporter": "python",
   "pygments_lexer": "ipython3",
   "version": "3.7.6"
  }
 },
 "nbformat": 4,
 "nbformat_minor": 4
}
