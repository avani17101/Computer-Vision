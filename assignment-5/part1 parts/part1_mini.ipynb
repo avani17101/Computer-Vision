{
 "cells": [
  {
   "cell_type": "code",
   "execution_count": 1,
   "metadata": {},
   "outputs": [],
   "source": [
    "import pandas as pd\n",
    "import torch\n",
    "from torch import nn\n",
    "from torch.utils.data import Dataset, DataLoader\n",
    "import torch.nn.functional as F\n",
    "from torchvision.io import read_image\n",
    "from torchvision import models, transforms\n",
    "import time\n",
    "import numpy as np\n",
    "import matplotlib.pyplot as plt"
   ]
  },
  {
   "cell_type": "code",
   "execution_count": 2,
   "metadata": {},
   "outputs": [],
   "source": [
    "f = open(\"data/dataset_info.txt\", \"r\")\n",
    "labels = f.readlines()[1:]\n",
    "f.close()\n",
    "\n",
    "name_label = {}\n",
    "lb_list = []\n",
    "\n",
    "for i in range(len(labels)):\n",
    "    lb = labels[i].replace(\"\\n\", \"\").strip().split(\". \")[1]\n",
    "    lb_list.append(lb)\n",
    "    name_label[lb] = 0\n",
    "    \n",
    "for i in range(len(lb_list)):\n",
    "    name_label[lb_list[i]] += i\n",
    "    \n",
    "label_name = list(name_label.keys())\n"
   ]
  },
  {
   "cell_type": "code",
   "execution_count": 3,
   "metadata": {},
   "outputs": [],
   "source": [
    "class LoadImageDataset(Dataset):\n",
    "    def __init__(self, imgname_labels_file, img_dir, transform_data = None, train = True):\n",
    "        self.df_imgname_labels = pd.read_csv(imgname_labels_file)[:100]\n",
    "        self.img_dir = img_dir\n",
    "        self.transform_data =  transform_data\n",
    "        self.train = train\n",
    "        \n",
    "    def __len__(self):\n",
    "        return len(self.df_imgname_labels)\n",
    "    \n",
    "    def __getitem__(self, idx):\n",
    "        path = self.img_dir + self.df_imgname_labels.iloc[idx, 0]\n",
    "        img =  read_image(path)/ 255.\n",
    "        result = {\"image\": img, \"label\": -1}\n",
    "        if self.train:\n",
    "            lb = self.df_imgname_labels.iloc[idx, 1]\n",
    "            result[\"label\"] = lb\n",
    "            if self.transform_data:\n",
    "                result[\"label\"] = self.transform_data['labels'](result[\"label\"])\n",
    "                result[\"image\"] = self.transform_data['images'](result[\"image\"])\n",
    "        else:\n",
    "            lb = 0\n",
    "            result[\"label\"] = lb\n",
    "            if self.transform_data: \n",
    "                result[\"image\"] = self.transform_data['images'](result[\"image\"])\n",
    "        \n",
    "        return result"
   ]
  },
  {
   "cell_type": "markdown",
   "metadata": {},
   "source": [
    "## Basic Network"
   ]
  },
  {
   "cell_type": "code",
   "execution_count": 4,
   "metadata": {},
   "outputs": [],
   "source": [
    "class MyNetwork(nn.Module):\n",
    "    def __init__(self):\n",
    "        super(MyNetwork, self).__init__()\n",
    "        self.model = nn.Sequential(\n",
    "            nn.Conv2d(in_channels = 3, out_channels = 6, kernel_size = 5),\n",
    "            nn.ReLU(),\n",
    "            nn.MaxPool2d(kernel_size = (4,4)),\n",
    "            nn.Conv2d(in_channels = 6, out_channels = 16, kernel_size = 5),\n",
    "            nn.ReLU(),\n",
    "            nn.MaxPool2d(kernel_size = (4,4)),\n",
    "            nn.Flatten(),\n",
    "            nn.Linear(in_features = 2304, out_features = 1024, bias=True),\n",
    "            nn.ReLU(),\n",
    "            nn.Linear(in_features = 1024, out_features = len(name_label), bias = True),\n",
    "            nn.Softmax()\n",
    "        )\n",
    "    def forward(self, x):\n",
    "        return self.model(x)"
   ]
  },
  {
   "cell_type": "code",
   "execution_count": 5,
   "metadata": {},
   "outputs": [],
   "source": [
    "def train(path = \"data/\", batch_size = 8, epochs = 20):\n",
    "    loss_arr = []\n",
    "     \n",
    "    if torch.cuda.is_available():\n",
    "        device = \"cuda\"\n",
    "    else:\n",
    "        device = \"cpu\"\n",
    "    print(\"Using {} device\".format(device))\n",
    "    model = MyNetwork().to(device)\n",
    "    print(model)\n",
    "    \n",
    "    transform_data =  {\n",
    "        'images': \n",
    "                transforms.Compose([\n",
    "                transforms.Resize((256, 256), interpolation = transforms.functional.InterpolationMode.BICUBIC),\n",
    "                transforms.CenterCrop((224, 224)),\n",
    "                transforms.Normalize(mean=[0.485, 0.456, 0.406], std=[0.229, 0.224, 0.225]),\n",
    "                ]),\n",
    "        'labels': \n",
    "                transforms.Compose([\n",
    "                transforms.Lambda(lambda y: name_label[y])\n",
    "                ])\n",
    "    }\n",
    "   \n",
    "    train_dataloader = DataLoader(LoadImageDataset(path + \"train.csv\", path + \"train_images/\", transform_data), batch_size = batch_size,  num_workers=2, shuffle=True)\n",
    "    \n",
    "    loss_fun = nn.CrossEntropyLoss()\n",
    "    optimizer = torch.optim.Adam(model.parameters(), lr=1e-3, weight_decay=1e-4)\n",
    "\n",
    "    for epoch in range(epochs):\n",
    "        total_loss = 0\n",
    "        \n",
    "        for  dic in train_dataloader:\n",
    "            X = dic[\"image\"].to(device)\n",
    "            y = dic[\"label\"].to(device)\n",
    "            \n",
    "            # forward pass\n",
    "            y_preds = model(X)\n",
    "#             print(y_preds.shape)\n",
    "            loss = loss_fun(y_preds, y)\n",
    "            \n",
    "            # backpropagation\n",
    "            optimizer.zero_grad()\n",
    "            loss.backward()\n",
    "            optimizer.step()\n",
    "\n",
    "            total_loss += loss.item()\n",
    "           \n",
    "        total_loss /= len(train_dataloader.dataset)\n",
    "        loss_arr.append(total_loss)\n",
    "        print(\"Epoch: \"+ str(epoch+1) + \" | loss: \"+str(total_loss), flush = True)\n",
    "   \n",
    "    \n",
    "    return loss_arr\n",
    "\n",
    "\n",
    "def plot(loss_arr):\n",
    "    ind = np.arange(1, len(loss_arr)+1)\n",
    "    plt.plot(ind, np.array(loss_arr))\n"
   ]
  },
  {
   "cell_type": "code",
   "execution_count": 6,
   "metadata": {},
   "outputs": [
    {
     "name": "stdout",
     "output_type": "stream",
     "text": [
      "Using cpu device\n",
      "MyNetwork(\n",
      "  (model): Sequential(\n",
      "    (0): Conv2d(3, 6, kernel_size=(5, 5), stride=(1, 1))\n",
      "    (1): ReLU()\n",
      "    (2): MaxPool2d(kernel_size=(4, 4), stride=(4, 4), padding=0, dilation=1, ceil_mode=False)\n",
      "    (3): Conv2d(6, 16, kernel_size=(5, 5), stride=(1, 1))\n",
      "    (4): ReLU()\n",
      "    (5): MaxPool2d(kernel_size=(4, 4), stride=(4, 4), padding=0, dilation=1, ceil_mode=False)\n",
      "    (6): Flatten(start_dim=1, end_dim=-1)\n",
      "    (7): Linear(in_features=2304, out_features=1024, bias=True)\n",
      "    (8): ReLU()\n",
      "    (9): Linear(in_features=1024, out_features=62, bias=True)\n",
      "    (10): Softmax(dim=None)\n",
      "  )\n",
      ")\n"
     ]
    },
    {
     "name": "stderr",
     "output_type": "stream",
     "text": [
      "/home/avani.gupta/anaconda3/lib/python3.7/site-packages/torch/nn/modules/container.py:119: UserWarning: Implicit dimension choice for softmax has been deprecated. Change the call to include dim=X as an argument.\n",
      "  input = module(input)\n"
     ]
    },
    {
     "name": "stdout",
     "output_type": "stream",
     "text": [
      "Epoch: 1 | loss: 0.5349198842048645\n",
      "Epoch: 2 | loss: 0.5265533208847046\n",
      "Epoch: 3 | loss: 0.5289556360244752\n",
      "Epoch: 4 | loss: 0.528790922164917\n",
      "Epoch: 5 | loss: 0.5287669181823731\n",
      "Epoch: 6 | loss: 0.5284537553787232\n",
      "Epoch: 7 | loss: 0.5288408708572387\n",
      "Epoch: 8 | loss: 0.5275613832473754\n",
      "Epoch: 9 | loss: 0.527986249923706\n",
      "Epoch: 10 | loss: 0.5263271760940552\n",
      "Epoch: 11 | loss: 0.5275632429122925\n",
      "Epoch: 12 | loss: 0.5263085412979126\n",
      "Epoch: 13 | loss: 0.5275659132003784\n",
      "Epoch: 14 | loss: 0.5275439071655273\n",
      "Epoch: 15 | loss: 0.5275594806671142\n",
      "Epoch: 16 | loss: 0.5275489091873169\n",
      "Epoch: 17 | loss: 0.5275528573989868\n",
      "Epoch: 18 | loss: 0.5262542700767517\n",
      "Epoch: 19 | loss: 0.5269930577278137\n",
      "Epoch: 20 | loss: 0.5275774049758911\n"
     ]
    },
    {
     "data": {
      "image/png": "[encoded data removed]",
      "text/plain": [
       "<Figure size 432x288 with 1 Axes>"
      ]
     },
     "metadata": {
      "needs_background": "light"
     },
     "output_type": "display_data"
    }
   ],
   "source": [
    "epochs = 20\n",
    "loss_arr = train(epochs = epochs)\n",
    "plot(loss_arr)"
   ]
  },
  {
   "cell_type": "markdown",
   "metadata": {},
   "source": [
    "## Playing with layers"
   ]
  },
  {
   "cell_type": "markdown",
   "metadata": {},
   "source": [
    "### Add BatchNorm"
   ]
  },
  {
   "cell_type": "code",
   "execution_count": 7,
   "metadata": {},
   "outputs": [],
   "source": [
    "class MyNetwork(nn.Module):\n",
    "    def __init__(self):\n",
    "        super(MyNetwork, self).__init__()\n",
    "        self.model = nn.Sequential(\n",
    "            nn.Conv2d(in_channels = 3, out_channels = 6, kernel_size = 5),\n",
    "            nn.ReLU(),\n",
    "            nn.BatchNorm2d(num_features = 6),\n",
    "            nn.MaxPool2d(kernel_size = (4,4)),\n",
    "           \n",
    "            nn.Conv2d(in_channels = 6, out_channels = 16, kernel_size = 5),\n",
    "            nn.ReLU(),\n",
    "            nn.BatchNorm2d(num_features = 16),\n",
    "            nn.MaxPool2d(kernel_size = (4,4)),\n",
    "            nn.Flatten(),\n",
    "            \n",
    "            nn.Linear(in_features = 2304, out_features = 1024, bias=True),\n",
    "            nn.ReLU(),\n",
    "            nn.Linear(in_features = 1024, out_features = len(name_label), bias = True),\n",
    "            nn.Softmax()\n",
    "        )\n",
    "    def forward(self, x):\n",
    "        return self.model(x)"
   ]
  },
  {
   "cell_type": "code",
   "execution_count": 8,
   "metadata": {},
   "outputs": [
    {
     "name": "stdout",
     "output_type": "stream",
     "text": [
      "Using cpu device\n",
      "MyNetwork(\n",
      "  (model): Sequential(\n",
      "    (0): Conv2d(3, 6, kernel_size=(5, 5), stride=(1, 1))\n",
      "    (1): ReLU()\n",
      "    (2): BatchNorm2d(6, eps=1e-05, momentum=0.1, affine=True, track_running_stats=True)\n",
      "    (3): MaxPool2d(kernel_size=(4, 4), stride=(4, 4), padding=0, dilation=1, ceil_mode=False)\n",
      "    (4): Conv2d(6, 16, kernel_size=(5, 5), stride=(1, 1))\n",
      "    (5): ReLU()\n",
      "    (6): BatchNorm2d(16, eps=1e-05, momentum=0.1, affine=True, track_running_stats=True)\n",
      "    (7): MaxPool2d(kernel_size=(4, 4), stride=(4, 4), padding=0, dilation=1, ceil_mode=False)\n",
      "    (8): Flatten(start_dim=1, end_dim=-1)\n",
      "    (9): Linear(in_features=2304, out_features=1024, bias=True)\n",
      "    (10): ReLU()\n",
      "    (11): Linear(in_features=1024, out_features=62, bias=True)\n",
      "    (12): Softmax(dim=None)\n",
      "  )\n",
      ")\n"
     ]
    },
    {
     "name": "stderr",
     "output_type": "stream",
     "text": [
      "/home/avani.gupta/anaconda3/lib/python3.7/site-packages/torch/nn/modules/container.py:119: UserWarning: Implicit dimension choice for softmax has been deprecated. Change the call to include dim=X as an argument.\n",
      "  input = module(input)\n"
     ]
    },
    {
     "name": "stdout",
     "output_type": "stream",
     "text": [
      "Epoch: 1 | loss: 0.5294662547111512\n",
      "Epoch: 2 | loss: 0.5207396554946899\n",
      "Epoch: 3 | loss: 0.5185131120681763\n",
      "Epoch: 4 | loss: 0.5177706718444824\n",
      "Epoch: 5 | loss: 0.52215101480484\n",
      "Epoch: 6 | loss: 0.5167118382453918\n",
      "Epoch: 7 | loss: 0.5142892932891846\n",
      "Epoch: 8 | loss: 0.5120230627059936\n",
      "Epoch: 9 | loss: 0.5122046756744385\n",
      "Epoch: 10 | loss: 0.5087532377243043\n",
      "Epoch: 11 | loss: 0.5062459111213684\n",
      "Epoch: 12 | loss: 0.5081772589683533\n",
      "Epoch: 13 | loss: 0.5145453858375549\n",
      "Epoch: 14 | loss: 0.5154542112350464\n",
      "Epoch: 15 | loss: 0.5137864470481872\n",
      "Epoch: 16 | loss: 0.5113722681999207\n",
      "Epoch: 17 | loss: 0.5151143455505371\n",
      "Epoch: 18 | loss: 0.513773729801178\n",
      "Epoch: 19 | loss: 0.5154927682876587\n",
      "Epoch: 20 | loss: 0.5152896451950073\n"
     ]
    },
    {
     "data": {
      "image/png": "[encoded data removed]",
      "text/plain": [
       "<Figure size 432x288 with 1 Axes>"
      ]
     },
     "metadata": {
      "needs_background": "light"
     },
     "output_type": "display_data"
    }
   ],
   "source": [
    "epochs = 20\n",
    "loss_arr = train(epochs = epochs)\n",
    "plot(loss_arr)"
   ]
  },
  {
   "cell_type": "markdown",
   "metadata": {},
   "source": [
    "### Without pooling"
   ]
  },
  {
   "cell_type": "code",
   "execution_count": 9,
   "metadata": {},
   "outputs": [],
   "source": [
    "class MyNetwork(nn.Module):\n",
    "    def __init__(self):\n",
    "        super(MyNetwork, self).__init__()\n",
    "        self.model = nn.Sequential(\n",
    "            \n",
    "            nn.Conv2d(in_channels = 3, out_channels = 6, kernel_size = 5),\n",
    "            nn.ReLU(),\n",
    "            nn.Conv2d(in_channels = 6, out_channels = 16, kernel_size = 5),\n",
    "            nn.ReLU(),\n",
    "            nn.Flatten(),\n",
    "            nn.Linear(in_features = 746496, out_features = len(name_label), bias=False),\n",
    "        )\n",
    "    def forward(self, x):\n",
    "        return self.model(x)"
   ]
  },
  {
   "cell_type": "code",
   "execution_count": 10,
   "metadata": {},
   "outputs": [
    {
     "name": "stdout",
     "output_type": "stream",
     "text": [
      "Using cpu device\n",
      "MyNetwork(\n",
      "  (model): Sequential(\n",
      "    (0): Conv2d(3, 6, kernel_size=(5, 5), stride=(1, 1))\n",
      "    (1): ReLU()\n",
      "    (2): Conv2d(6, 16, kernel_size=(5, 5), stride=(1, 1))\n",
      "    (3): ReLU()\n",
      "    (4): Flatten(start_dim=1, end_dim=-1)\n",
      "    (5): Linear(in_features=746496, out_features=62, bias=False)\n",
      "  )\n",
      ")\n",
      "Epoch: 1 | loss: 3.5349454832077027\n",
      "Epoch: 2 | loss: 0.2453252410888672\n",
      "Epoch: 3 | loss: 0.07062227062880994\n",
      "Epoch: 4 | loss: 0.02044912262033904\n",
      "Epoch: 5 | loss: 0.006048456509597599\n",
      "Epoch: 6 | loss: 0.0010929223269340582\n",
      "Epoch: 7 | loss: 0.0006112567763921107\n",
      "Epoch: 8 | loss: 9.152890623226995e-05\n",
      "Epoch: 9 | loss: 7.794051671226044e-05\n",
      "Epoch: 10 | loss: 0.00010644021381267521\n",
      "Epoch: 11 | loss: 0.00011094260822574143\n",
      "Epoch: 12 | loss: 0.00010697034254917525\n",
      "Epoch: 13 | loss: 0.00011145824046252529\n",
      "Epoch: 14 | loss: 0.0001248539309744956\n",
      "Epoch: 15 | loss: 0.00013862023086403497\n",
      "Epoch: 16 | loss: 0.00011405540280975401\n",
      "Epoch: 17 | loss: 0.00011145526448672172\n",
      "Epoch: 18 | loss: 0.00011726023740493474\n",
      "Epoch: 19 | loss: 0.00011860039012390189\n",
      "Epoch: 20 | loss: 0.00011973246437264606\n"
     ]
    },
    {
     "data": {
      "image/png": "[encoded data removed]",
      "text/plain": [
       "<Figure size 432x288 with 1 Axes>"
      ]
     },
     "metadata": {
      "needs_background": "light"
     },
     "output_type": "display_data"
    }
   ],
   "source": [
    "epochs = 20\n",
    "loss_arr = train(epochs = epochs)\n",
    "plot(loss_arr)"
   ]
  },
  {
   "cell_type": "markdown",
   "metadata": {},
   "source": [
    "### Max-pool "
   ]
  },
  {
   "cell_type": "code",
   "execution_count": 11,
   "metadata": {},
   "outputs": [
    {
     "name": "stdout",
     "output_type": "stream",
     "text": [
      "Using cpu device\n",
      "MyNetwork(\n",
      "  (model): Sequential(\n",
      "    (0): Conv2d(3, 6, kernel_size=(5, 5), stride=(1, 1))\n",
      "    (1): ReLU()\n",
      "    (2): Conv2d(6, 16, kernel_size=(5, 5), stride=(1, 1))\n",
      "    (3): ReLU()\n",
      "    (4): MaxPool2d(kernel_size=(4, 4), stride=(4, 4), padding=0, dilation=1, ceil_mode=False)\n",
      "    (5): Flatten(start_dim=1, end_dim=-1)\n",
      "    (6): Linear(in_features=46656, out_features=62, bias=False)\n",
      "  )\n",
      ")\n",
      "Epoch: 1 | loss: 1.0537453317642211\n",
      "Epoch: 2 | loss: 0.4212511420249939\n",
      "Epoch: 3 | loss: 0.23339530289173127\n",
      "Epoch: 4 | loss: 0.049399748649448155\n",
      "Epoch: 5 | loss: 0.013327822961146011\n",
      "Epoch: 6 | loss: 0.002624251008965075\n",
      "Epoch: 7 | loss: 0.00045503531699068843\n",
      "Epoch: 8 | loss: 0.0005751359158603008\n",
      "Epoch: 9 | loss: 0.0005116757155337837\n",
      "Epoch: 10 | loss: 0.00037020807096268984\n"
     ]
    },
    {
     "data": {
      "image/png": "[encoded data removed]",
      "text/plain": [
       "<Figure size 432x288 with 1 Axes>"
      ]
     },
     "metadata": {
      "needs_background": "light"
     },
     "output_type": "display_data"
    }
   ],
   "source": [
    "class MyNetwork(nn.Module):\n",
    "    def __init__(self):\n",
    "        super(MyNetwork, self).__init__()\n",
    "        self.model = nn.Sequential(\n",
    "            \n",
    "            nn.Conv2d(in_channels = 3, out_channels = 6, kernel_size = 5),\n",
    "            nn.ReLU(),\n",
    "            nn.Conv2d(in_channels = 6, out_channels = 16, kernel_size = 5),\n",
    "            nn.ReLU(),\n",
    "            nn.MaxPool2d(kernel_size = (4,4)),\n",
    "            nn.Flatten(),\n",
    "            nn.Linear(in_features = 46656, out_features = len(name_label), bias=False),\n",
    "        )\n",
    "    def forward(self, x):\n",
    "        return self.model(x)\n",
    "    \n",
    "epochs = 10\n",
    "loss_arr = train(epochs = epochs)\n",
    "plot(loss_arr)"
   ]
  },
  {
   "cell_type": "code",
   "execution_count": 12,
   "metadata": {},
   "outputs": [
    {
     "name": "stdout",
     "output_type": "stream",
     "text": [
      "Using cpu device\n",
      "MyNetwork(\n",
      "  (model): Sequential(\n",
      "    (0): Conv2d(3, 6, kernel_size=(5, 5), stride=(1, 1))\n",
      "    (1): ReLU()\n",
      "    (2): MaxPool2d(kernel_size=(4, 4), stride=(4, 4), padding=0, dilation=1, ceil_mode=False)\n",
      "    (3): Conv2d(6, 16, kernel_size=(5, 5), stride=(1, 1))\n",
      "    (4): ReLU()\n",
      "    (5): MaxPool2d(kernel_size=(4, 4), stride=(4, 4), padding=0, dilation=1, ceil_mode=False)\n",
      "    (6): Flatten(start_dim=1, end_dim=-1)\n",
      "    (7): Linear(in_features=2304, out_features=62, bias=False)\n",
      "  )\n",
      ")\n",
      "Epoch: 1 | loss: 0.5400315642356872\n",
      "Epoch: 2 | loss: 0.47163894414901736\n",
      "Epoch: 3 | loss: 0.3820412349700928\n",
      "Epoch: 4 | loss: 0.23894546151161195\n",
      "Epoch: 5 | loss: 0.09391472645103932\n",
      "Epoch: 6 | loss: 0.037984237596392634\n",
      "Epoch: 7 | loss: 0.015744927981868388\n",
      "Epoch: 8 | loss: 0.005489108599722386\n",
      "Epoch: 9 | loss: 0.002417745778657263\n",
      "Epoch: 10 | loss: 0.0008821867732331156\n"
     ]
    },
    {
     "data": {
      "image/png": "[encoded data removed]",
      "text/plain": [
       "<Figure size 432x288 with 1 Axes>"
      ]
     },
     "metadata": {
      "needs_background": "light"
     },
     "output_type": "display_data"
    }
   ],
   "source": [
    "class MyNetwork(nn.Module):\n",
    "    def __init__(self):\n",
    "        super(MyNetwork, self).__init__()\n",
    "        self.model = nn.Sequential(\n",
    "            \n",
    "            nn.Conv2d(in_channels = 3, out_channels = 6, kernel_size = 5),\n",
    "            nn.ReLU(),\n",
    "            nn.MaxPool2d(kernel_size = (4,4)),\n",
    "            nn.Conv2d(in_channels = 6, out_channels = 16, kernel_size = 5),\n",
    "            nn.ReLU(),\n",
    "            nn.MaxPool2d(kernel_size = (4,4)),\n",
    "            nn.Flatten(),\n",
    "            nn.Linear(in_features = 2304, out_features = len(name_label), bias=False),\n",
    "        )\n",
    "    def forward(self, x):\n",
    "        return self.model(x)\n",
    "\n",
    "    \n",
    "epochs = 10\n",
    "loss_arr = train(epochs = epochs)\n",
    "plot(loss_arr)"
   ]
  },
  {
   "cell_type": "markdown",
   "metadata": {},
   "source": [
    "### Avg Pool"
   ]
  },
  {
   "cell_type": "code",
   "execution_count": 13,
   "metadata": {},
   "outputs": [
    {
     "name": "stdout",
     "output_type": "stream",
     "text": [
      "Using cpu device\n",
      "MyNetwork(\n",
      "  (model): Sequential(\n",
      "    (0): Conv2d(3, 6, kernel_size=(5, 5), stride=(1, 1))\n",
      "    (1): ReLU()\n",
      "    (2): AvgPool2d(kernel_size=(4, 4), stride=(4, 4), padding=0)\n",
      "    (3): Conv2d(6, 16, kernel_size=(5, 5), stride=(1, 1))\n",
      "    (4): ReLU()\n",
      "    (5): AvgPool2d(kernel_size=(4, 4), stride=(4, 4), padding=0)\n",
      "    (6): Flatten(start_dim=1, end_dim=-1)\n",
      "    (7): Linear(in_features=2304, out_features=512, bias=False)\n",
      "    (8): Linear(in_features=512, out_features=62, bias=False)\n",
      "  )\n",
      ")\n",
      "Epoch: 1 | loss: 0.5349948000907898\n",
      "Epoch: 2 | loss: 0.45489207744598387\n",
      "Epoch: 3 | loss: 0.3530518889427185\n",
      "Epoch: 4 | loss: 0.22262844800949097\n",
      "Epoch: 5 | loss: 0.11425527513027191\n",
      "Epoch: 6 | loss: 0.061904635727405545\n",
      "Epoch: 7 | loss: 0.035001732558012005\n",
      "Epoch: 8 | loss: 0.02972656926140189\n",
      "Epoch: 9 | loss: 0.015991474711336197\n",
      "Epoch: 10 | loss: 0.007102768700569868\n"
     ]
    },
    {
     "data": {
      "image/png": "[encoded data removed]",
      "text/plain": [
       "<Figure size 432x288 with 1 Axes>"
      ]
     },
     "metadata": {
      "needs_background": "light"
     },
     "output_type": "display_data"
    }
   ],
   "source": [
    "\n",
    "\n",
    "class MyNetwork(nn.Module):\n",
    "    def __init__(self):\n",
    "        super(MyNetwork, self).__init__()\n",
    "        self.model = nn.Sequential(\n",
    "            \n",
    "            nn.Conv2d(in_channels = 3, out_channels = 6, kernel_size = 5),\n",
    "            nn.ReLU(),\n",
    "            nn.AvgPool2d(kernel_size = (4,4)),\n",
    "            nn.Conv2d(in_channels = 6, out_channels = 16, kernel_size = 5),\n",
    "            nn.ReLU(),\n",
    "            nn.AvgPool2d(kernel_size = (4,4)),\n",
    "            nn.Flatten(),\n",
    "            nn.Linear(in_features = 2304, out_features = 512, bias=False),\n",
    "            nn.Linear(in_features = 512, out_features = len(name_label), bias=False),\n",
    "        )\n",
    "    def forward(self, x):\n",
    "        return self.model(x)\n",
    "\n",
    "    \n",
    "epochs = 10\n",
    "loss_arr = train(epochs = epochs)\n",
    "plot(loss_arr)\n",
    "\n"
   ]
  },
  {
   "cell_type": "code",
   "execution_count": 14,
   "metadata": {},
   "outputs": [
    {
     "name": "stdout",
     "output_type": "stream",
     "text": [
      "Using cpu device\n",
      "MyNetwork(\n",
      "  (model): Sequential(\n",
      "    (0): Conv2d(3, 6, kernel_size=(5, 5), stride=(1, 1))\n",
      "    (1): ReLU()\n",
      "    (2): AvgPool2d(kernel_size=(4, 4), stride=(4, 4), padding=0)\n",
      "    (3): Conv2d(6, 16, kernel_size=(5, 5), stride=(1, 1))\n",
      "    (4): ReLU()\n",
      "    (5): AvgPool2d(kernel_size=(4, 4), stride=(4, 4), padding=0)\n",
      "    (6): Flatten(start_dim=1, end_dim=-1)\n",
      "    (7): Linear(in_features=2304, out_features=512, bias=True)\n",
      "    (8): Linear(in_features=512, out_features=62, bias=True)\n",
      "  )\n",
      ")\n",
      "Epoch: 1 | loss: 0.5338493824005127\n",
      "Epoch: 2 | loss: 0.4445702338218689\n",
      "Epoch: 3 | loss: 0.3273104405403137\n",
      "Epoch: 4 | loss: 0.1568203514814377\n",
      "Epoch: 5 | loss: 0.0549690855294466\n",
      "Epoch: 6 | loss: 0.03578449134714901\n",
      "Epoch: 7 | loss: 0.03935745207592845\n",
      "Epoch: 8 | loss: 0.022785753598436712\n",
      "Epoch: 9 | loss: 0.01187285190448165\n",
      "Epoch: 10 | loss: 0.0063646844192408025\n"
     ]
    },
    {
     "data": {
      "image/png": "[encoded data removed]",
      "text/plain": [
       "<Figure size 432x288 with 1 Axes>"
      ]
     },
     "metadata": {
      "needs_background": "light"
     },
     "output_type": "display_data"
    }
   ],
   "source": [
    "class MyNetwork(nn.Module):\n",
    "    def __init__(self):\n",
    "        super(MyNetwork, self).__init__()\n",
    "        self.model = nn.Sequential(\n",
    "            \n",
    "            nn.Conv2d(in_channels = 3, out_channels = 6, kernel_size = 5),\n",
    "            nn.ReLU(),\n",
    "            nn.AvgPool2d(kernel_size = (4,4)),\n",
    "            nn.Conv2d(in_channels = 6, out_channels = 16, kernel_size = 5),\n",
    "            nn.ReLU(),\n",
    "            nn.AvgPool2d(kernel_size = (4,4)),\n",
    "            nn.Flatten(),\n",
    "            nn.Linear(in_features = 2304, out_features = 512, bias=True),\n",
    "            nn.Linear(in_features = 512, out_features = len(name_label), bias=True),\n",
    "        )\n",
    "    def forward(self, x):\n",
    "        return self.model(x)\n",
    "\n",
    "    \n",
    "epochs = 10\n",
    "loss_arr = train(epochs = epochs)\n",
    "plot(loss_arr)"
   ]
  },
  {
   "cell_type": "markdown",
   "metadata": {},
   "source": [
    "## Adding more conv layers "
   ]
  },
  {
   "cell_type": "code",
   "execution_count": 15,
   "metadata": {},
   "outputs": [
    {
     "name": "stdout",
     "output_type": "stream",
     "text": [
      "Using cpu device\n",
      "MyNetwork(\n",
      "  (model): Sequential(\n",
      "    (0): Conv2d(3, 16, kernel_size=(5, 5), stride=(1, 1))\n",
      "    (1): ReLU()\n",
      "    (2): MaxPool2d(kernel_size=(4, 4), stride=(4, 4), padding=0, dilation=1, ceil_mode=False)\n",
      "    (3): Conv2d(16, 64, kernel_size=(5, 5), stride=(1, 1))\n",
      "    (4): ReLU()\n",
      "    (5): MaxPool2d(kernel_size=(4, 4), stride=(4, 4), padding=0, dilation=1, ceil_mode=False)\n",
      "    (6): Flatten(start_dim=1, end_dim=-1)\n",
      "    (7): Linear(in_features=9216, out_features=1024, bias=False)\n",
      "    (8): ReLU()\n",
      "    (9): Linear(in_features=1024, out_features=256, bias=False)\n",
      "    (10): ReLU()\n",
      "    (11): Linear(in_features=256, out_features=62, bias=False)\n",
      "  )\n",
      ")\n",
      "Epoch: 1 | loss: 0.5359687399864197\n",
      "Epoch: 2 | loss: 0.507970187664032\n",
      "Epoch: 3 | loss: 0.47648273944854735\n",
      "Epoch: 4 | loss: 0.4572883129119873\n",
      "Epoch: 5 | loss: 0.4256727719306946\n",
      "Epoch: 6 | loss: 0.38233726263046264\n",
      "Epoch: 7 | loss: 0.3087602519989014\n",
      "Epoch: 8 | loss: 0.2041388636827469\n",
      "Epoch: 9 | loss: 0.13887995064258576\n",
      "Epoch: 10 | loss: 0.09729155793786048\n"
     ]
    },
    {
     "data": {
      "image/png": "[encoded data removed]",
      "text/plain": [
       "<Figure size 432x288 with 1 Axes>"
      ]
     },
     "metadata": {
      "needs_background": "light"
     },
     "output_type": "display_data"
    }
   ],
   "source": [
    "class MyNetwork(nn.Module):\n",
    "    def __init__(self):\n",
    "        super(MyNetwork, self).__init__()\n",
    "        self.model = nn.Sequential(\n",
    "            \n",
    "            nn.Conv2d(in_channels = 3, out_channels = 16, kernel_size = 5),\n",
    "            nn.ReLU(),\n",
    "            nn.MaxPool2d(kernel_size = (4,4)),\n",
    "            nn.Conv2d(in_channels = 16, out_channels = 64, kernel_size = 5),\n",
    "            nn.ReLU(),\n",
    "            nn.MaxPool2d(kernel_size = (4,4)),\n",
    "            nn.Flatten(),\n",
    "            nn.Linear(in_features = 9216, out_features = 1024, bias=False),\n",
    "            nn.ReLU(),\n",
    "            nn.Linear(in_features = 1024, out_features = 256, bias=False),\n",
    "            nn.ReLU(),\n",
    "            nn.Linear(in_features = 256, out_features = len(name_label), bias=False),\n",
    "        )\n",
    "    def forward(self, x):\n",
    "        return self.model(x)\n",
    "\n",
    "    \n",
    "epochs = 10\n",
    "loss_arr = train(epochs = epochs)\n",
    "plot(loss_arr)"
   ]
  },
  {
   "cell_type": "code",
   "execution_count": 16,
   "metadata": {},
   "outputs": [
    {
     "name": "stdout",
     "output_type": "stream",
     "text": [
      "Using cpu device\n",
      "MyNetwork(\n",
      "  (model): Sequential(\n",
      "    (0): Conv2d(3, 16, kernel_size=(5, 5), stride=(1, 1))\n",
      "    (1): ReLU()\n",
      "    (2): MaxPool2d(kernel_size=(4, 4), stride=(4, 4), padding=0, dilation=1, ceil_mode=False)\n",
      "    (3): Conv2d(16, 64, kernel_size=(5, 5), stride=(1, 1))\n",
      "    (4): ReLU()\n",
      "    (5): MaxPool2d(kernel_size=(4, 4), stride=(4, 4), padding=0, dilation=1, ceil_mode=False)\n",
      "    (6): Flatten(start_dim=1, end_dim=-1)\n",
      "    (7): Linear(in_features=9216, out_features=62, bias=False)\n",
      "    (8): Softmax(dim=None)\n",
      "  )\n",
      ")\n"
     ]
    },
    {
     "name": "stderr",
     "output_type": "stream",
     "text": [
      "/home/avani.gupta/anaconda3/lib/python3.7/site-packages/torch/nn/modules/container.py:119: UserWarning: Implicit dimension choice for softmax has been deprecated. Change the call to include dim=X as an argument.\n",
      "  input = module(input)\n"
     ]
    },
    {
     "name": "stdout",
     "output_type": "stream",
     "text": [
      "Epoch: 1 | loss: 0.5325051927566529\n",
      "Epoch: 2 | loss: 0.5275487232208252\n",
      "Epoch: 3 | loss: 0.5275538277626037\n",
      "Epoch: 4 | loss: 0.5250578641891479\n",
      "Epoch: 5 | loss: 0.5276033639907837\n",
      "Epoch: 6 | loss: 0.5275806331634522\n",
      "Epoch: 7 | loss: 0.5263224363327026\n",
      "Epoch: 8 | loss: 0.5275628995895386\n",
      "Epoch: 9 | loss: 0.5263250446319581\n",
      "Epoch: 10 | loss: 0.5250808906555176\n"
     ]
    },
    {
     "data": {
      "image/png": "[encoded data removed]",
      "text/plain": [
       "<Figure size 432x288 with 1 Axes>"
      ]
     },
     "metadata": {
      "needs_background": "light"
     },
     "output_type": "display_data"
    }
   ],
   "source": [
    "class MyNetwork(nn.Module):\n",
    "    def __init__(self):\n",
    "        super(MyNetwork, self).__init__()\n",
    "        self.model = nn.Sequential(\n",
    "            \n",
    "            nn.Conv2d(in_channels = 3, out_channels = 16, kernel_size = 5),\n",
    "            nn.ReLU(),\n",
    "            nn.MaxPool2d(kernel_size = (4,4)),\n",
    "            nn.Conv2d(in_channels = 16, out_channels = 64, kernel_size = 5),\n",
    "            nn.ReLU(),\n",
    "            nn.MaxPool2d(kernel_size = (4,4)),\n",
    "            nn.Flatten(),\n",
    "            nn.Linear(in_features = 9216, out_features = len(name_label), bias=False),\n",
    "            nn.Softmax()\n",
    "        )\n",
    "    def forward(self, x):\n",
    "        return self.model(x)\n",
    "\n",
    "    \n",
    "epochs = 10\n",
    "loss_arr = train(epochs = epochs)\n",
    "plot(loss_arr)"
   ]
  },
  {
   "cell_type": "code",
   "execution_count": 17,
   "metadata": {},
   "outputs": [
    {
     "name": "stdout",
     "output_type": "stream",
     "text": [
      "Using cpu device\n",
      "MyNetwork(\n",
      "  (model): Sequential(\n",
      "    (0): Conv2d(3, 16, kernel_size=(5, 5), stride=(1, 1))\n",
      "    (1): ReLU()\n",
      "    (2): MaxPool2d(kernel_size=(4, 4), stride=(4, 4), padding=0, dilation=1, ceil_mode=False)\n",
      "    (3): Conv2d(16, 64, kernel_size=(5, 5), stride=(1, 1))\n",
      "    (4): ReLU()\n",
      "    (5): MaxPool2d(kernel_size=(4, 4), stride=(4, 4), padding=0, dilation=1, ceil_mode=False)\n",
      "    (6): Flatten(start_dim=1, end_dim=-1)\n",
      "    (7): Linear(in_features=9216, out_features=62, bias=False)\n",
      "    (8): Softmax(dim=None)\n",
      "  )\n",
      ")\n"
     ]
    },
    {
     "name": "stderr",
     "output_type": "stream",
     "text": [
      "/home/avani.gupta/anaconda3/lib/python3.7/site-packages/torch/nn/modules/container.py:119: UserWarning: Implicit dimension choice for softmax has been deprecated. Change the call to include dim=X as an argument.\n",
      "  input = module(input)\n"
     ]
    },
    {
     "name": "stdout",
     "output_type": "stream",
     "text": [
      "Epoch: 1 | loss: 0.5355728197097779\n",
      "Epoch: 2 | loss: 0.5241554737091064\n",
      "Epoch: 3 | loss: 0.5199035906791687\n",
      "Epoch: 4 | loss: 0.5139804267883301\n",
      "Epoch: 5 | loss: 0.5211299014091492\n",
      "Epoch: 6 | loss: 0.5210903882980347\n",
      "Epoch: 7 | loss: 0.5201430892944336\n",
      "Epoch: 8 | loss: 0.5186952328681946\n",
      "Epoch: 9 | loss: 0.5199755001068115\n",
      "Epoch: 10 | loss: 0.5190726590156555\n"
     ]
    },
    {
     "data": {
      "image/png": "[encoded data removed]",
      "text/plain": [
       "<Figure size 432x288 with 1 Axes>"
      ]
     },
     "metadata": {
      "needs_background": "light"
     },
     "output_type": "display_data"
    }
   ],
   "source": [
    "class Network(nn.Module):\n",
    "    def __init__(self):\n",
    "        super(Network, self).__init__()\n",
    "        self.model = nn.Sequential(\n",
    "            \n",
    "            nn.Conv2d(in_channels = 3, out_channels = 16, kernel_size = 5),\n",
    "            nn.ReLU(),\n",
    "            nn.MaxPool2d(kernel_size = (4,4)),\n",
    "            nn.Conv2d(in_channels = 16, out_channels = 64, kernel_size = 5),\n",
    "            nn.ReLU(),\n",
    "            nn.MaxPool2d(kernel_size = (4,4)),\n",
    "            nn.Flatten(),\n",
    "            nn.Linear(in_features = 9216, out_features = len(map_name_label), bias=False),\n",
    "           \n",
    "        )\n",
    "    def forward(self, x):\n",
    "        return self.model(x)\n",
    "\n",
    "    \n",
    "epochs = 10\n",
    "loss_arr = train(epochs = epochs)\n",
    "plot(loss_arr)"
   ]
  },
  {
   "cell_type": "code",
   "execution_count": 18,
   "metadata": {},
   "outputs": [
    {
     "name": "stdout",
     "output_type": "stream",
     "text": [
      "Using cpu device\n",
      "MyNetwork(\n",
      "  (model): Sequential(\n",
      "    (0): Conv2d(3, 16, kernel_size=(5, 5), stride=(1, 1))\n",
      "    (1): ReLU()\n",
      "    (2): MaxPool2d(kernel_size=(4, 4), stride=(4, 4), padding=0, dilation=1, ceil_mode=False)\n",
      "    (3): Conv2d(16, 64, kernel_size=(5, 5), stride=(1, 1))\n",
      "    (4): ReLU()\n",
      "    (5): MaxPool2d(kernel_size=(4, 4), stride=(4, 4), padding=0, dilation=1, ceil_mode=False)\n",
      "    (6): Flatten(start_dim=1, end_dim=-1)\n",
      "    (7): Linear(in_features=9216, out_features=1024, bias=False)\n",
      "    (8): ReLU()\n",
      "    (9): Linear(in_features=1024, out_features=256, bias=False)\n",
      "    (10): ReLU()\n",
      "    (11): Linear(in_features=256, out_features=62, bias=False)\n",
      "    (12): Softmax(dim=None)\n",
      "  )\n",
      ")\n"
     ]
    },
    {
     "name": "stderr",
     "output_type": "stream",
     "text": [
      "/home/avani.gupta/anaconda3/lib/python3.7/site-packages/torch/nn/modules/container.py:119: UserWarning: Implicit dimension choice for softmax has been deprecated. Change the call to include dim=X as an argument.\n",
      "  input = module(input)\n"
     ]
    },
    {
     "name": "stdout",
     "output_type": "stream",
     "text": [
      "Epoch: 1 | loss: 0.5367322301864624\n",
      "Epoch: 2 | loss: 0.5345879507064819\n",
      "Epoch: 3 | loss: 0.5288313388824463\n",
      "Epoch: 4 | loss: 0.5288313388824463\n",
      "Epoch: 5 | loss: 0.5288313388824463\n",
      "Epoch: 6 | loss: 0.5288313388824463\n",
      "Epoch: 7 | loss: 0.5288313388824463\n",
      "Epoch: 8 | loss: 0.5288313388824463\n",
      "Epoch: 9 | loss: 0.5288313388824463\n",
      "Epoch: 10 | loss: 0.5288313388824463\n"
     ]
    },
    {
     "data": {
      "image/png": "[encoded data removed]",
      "text/plain": [
       "<Figure size 432x288 with 1 Axes>"
      ]
     },
     "metadata": {
      "needs_background": "light"
     },
     "output_type": "display_data"
    }
   ],
   "source": [
    "class MyNetwork(nn.Module):\n",
    "    def __init__(self):\n",
    "        super(MyNetwork, self).__init__()\n",
    "        self.model = nn.Sequential(\n",
    "            \n",
    "            nn.Conv2d(in_channels = 3, out_channels = 16, kernel_size = 5),\n",
    "            nn.ReLU(),\n",
    "            nn.MaxPool2d(kernel_size = (4,4)),\n",
    "            nn.Conv2d(in_channels = 16, out_channels = 64, kernel_size = 5),\n",
    "            nn.ReLU(),\n",
    "            nn.MaxPool2d(kernel_size = (4,4)),\n",
    "            nn.Flatten(),\n",
    "            nn.Linear(in_features = 9216, out_features = 1024, bias=False),\n",
    "            nn.ReLU(),\n",
    "            nn.Linear(in_features = 1024, out_features = 256, bias=False),\n",
    "            nn.ReLU(),\n",
    "            nn.Linear(in_features = 256, out_features = len(name_label), bias=False),\n",
    "            nn.Softmax()\n",
    "        )\n",
    "    def forward(self, x):\n",
    "        return self.model(x)\n",
    "\n",
    "    \n",
    "epochs = 10\n",
    "loss_arr = train(epochs = epochs)\n",
    "plot(loss_arr)"
   ]
  },
  {
   "cell_type": "code",
   "execution_count": 19,
   "metadata": {},
   "outputs": [
    {
     "name": "stdout",
     "output_type": "stream",
     "text": [
      "Using cpu device\n",
      "MyNetwork(\n",
      "  (model): Sequential(\n",
      "    (0): Conv2d(3, 16, kernel_size=(5, 5), stride=(1, 1))\n",
      "    (1): ReLU()\n",
      "    (2): MaxPool2d(kernel_size=(4, 4), stride=(4, 4), padding=0, dilation=1, ceil_mode=False)\n",
      "    (3): Conv2d(16, 64, kernel_size=(5, 5), stride=(1, 1))\n",
      "    (4): ReLU()\n",
      "    (5): MaxPool2d(kernel_size=(4, 4), stride=(4, 4), padding=0, dilation=1, ceil_mode=False)\n",
      "    (6): Flatten(start_dim=1, end_dim=-1)\n",
      "    (7): Linear(in_features=9216, out_features=1024, bias=False)\n",
      "    (8): ReLU()\n",
      "    (9): Linear(in_features=1024, out_features=256, bias=False)\n",
      "    (10): ReLU()\n",
      "    (11): Linear(in_features=256, out_features=62, bias=False)\n",
      "    (12): Softmax(dim=None)\n",
      "  )\n",
      ")\n"
     ]
    },
    {
     "name": "stderr",
     "output_type": "stream",
     "text": [
      "/home/avani.gupta/anaconda3/lib/python3.7/site-packages/torch/nn/modules/container.py:119: UserWarning: Implicit dimension choice for softmax has been deprecated. Change the call to include dim=X as an argument.\n",
      "  input = module(input)\n"
     ]
    },
    {
     "name": "stdout",
     "output_type": "stream",
     "text": [
      "Epoch: 1 | loss: 0.5320544576644898\n",
      "Epoch: 2 | loss: 0.5263313388824463\n",
      "Epoch: 3 | loss: 0.5275813388824463\n",
      "Epoch: 4 | loss: 0.5288313388824463\n",
      "Epoch: 5 | loss: 0.5288313388824463\n",
      "Epoch: 6 | loss: 0.5288313388824463\n",
      "Epoch: 7 | loss: 0.5288313388824463\n",
      "Epoch: 8 | loss: 0.5288313388824463\n",
      "Epoch: 9 | loss: 0.5288313388824463\n",
      "Epoch: 10 | loss: 0.5275813388824463\n"
     ]
    },
    {
     "data": {
      "image/png": "[encoded data removed]",
      "text/plain": [
       "<Figure size 432x288 with 1 Axes>"
      ]
     },
     "metadata": {
      "needs_background": "light"
     },
     "output_type": "display_data"
    }
   ],
   "source": [
    "class Network(nn.Module):\n",
    "    def __init__(self):\n",
    "        super(Network, self).__init__()\n",
    "        self.model = nn.Sequential(\n",
    "            \n",
    "            nn.Conv2d(in_channels = 3, out_channels = 16, kernel_size = 5),\n",
    "            nn.ReLU(),\n",
    "            nn.MaxPool2d(kernel_size = (4,4)),\n",
    "            nn.Conv2d(in_channels = 16, out_channels = 64, kernel_size = 5),\n",
    "            nn.ReLU(),\n",
    "            nn.MaxPool2d(kernel_size = (4,4)),\n",
    "            nn.Flatten(),\n",
    "            nn.Linear(in_features = 9216, out_features = len(map_name_label), bias=False),\n",
    "        )\n",
    "    def forward(self, x):\n",
    "        return self.model(x)\n",
    "\n",
    "    \n",
    "epochs = 10\n",
    "loss_arr = train(epochs = epochs)\n",
    "plot(loss_arr)"
   ]
  },
  {
   "cell_type": "markdown",
   "metadata": {},
   "source": [
    "## Playing with Activation functions"
   ]
  },
  {
   "cell_type": "code",
   "execution_count": 20,
   "metadata": {},
   "outputs": [
    {
     "name": "stdout",
     "output_type": "stream",
     "text": [
      "Using cpu device\n",
      "MyNetwork(\n",
      "  (model): Sequential(\n",
      "    (0): Conv2d(3, 6, kernel_size=(5, 5), stride=(1, 1))\n",
      "    (1): Sigmoid()\n",
      "    (2): AvgPool2d(kernel_size=(4, 4), stride=(4, 4), padding=0)\n",
      "    (3): Conv2d(6, 16, kernel_size=(5, 5), stride=(1, 1))\n",
      "    (4): Sigmoid()\n",
      "    (5): AvgPool2d(kernel_size=(4, 4), stride=(4, 4), padding=0)\n",
      "    (6): Flatten(start_dim=1, end_dim=-1)\n",
      "    (7): Linear(in_features=2304, out_features=512, bias=True)\n",
      "    (8): Sigmoid()\n",
      "    (9): Linear(in_features=512, out_features=62, bias=True)\n",
      "    (10): Sigmoid()\n",
      "  )\n",
      ")\n",
      "Epoch: 1 | loss: 0.5355001568794251\n",
      "Epoch: 2 | loss: 0.5121035265922547\n",
      "Epoch: 3 | loss: 0.5042818069458008\n",
      "Epoch: 4 | loss: 0.5035944390296936\n",
      "Epoch: 5 | loss: 0.502338035106659\n",
      "Epoch: 6 | loss: 0.5021861124038697\n",
      "Epoch: 7 | loss: 0.5013333630561828\n",
      "Epoch: 8 | loss: 0.5030652070045472\n",
      "Epoch: 9 | loss: 0.5013271164894104\n",
      "Epoch: 10 | loss: 0.5019368577003479\n"
     ]
    },
    {
     "data": {
      "image/png": "[encoded data removed]",
      "text/plain": [
       "<Figure size 432x288 with 1 Axes>"
      ]
     },
     "metadata": {
      "needs_background": "light"
     },
     "output_type": "display_data"
    }
   ],
   "source": [
    "class MyNetwork(nn.Module):\n",
    "    def __init__(self):\n",
    "        super(MyNetwork, self).__init__()\n",
    "        self.model = nn.Sequential(\n",
    "            \n",
    "            nn.Conv2d(in_channels = 3, out_channels = 6, kernel_size = 5),\n",
    "            nn.Sigmoid(),\n",
    "            nn.AvgPool2d(kernel_size = (4,4)),\n",
    "            nn.Conv2d(in_channels = 6, out_channels = 16, kernel_size = 5),\n",
    "            nn.Sigmoid(),\n",
    "            nn.AvgPool2d(kernel_size = (4,4)),\n",
    "            nn.Flatten(),\n",
    "            nn.Linear(in_features = 2304, out_features = 512, bias=True),\n",
    "            nn.Sigmoid(),\n",
    "            nn.Linear(in_features = 512, out_features = len(name_label), bias=True),\n",
    "            nn.Sigmoid(),\n",
    "        )\n",
    "    def forward(self, x):\n",
    "        return self.model(x)\n",
    "\n",
    "    \n",
    "epochs = 10\n",
    "loss_arr = train(epochs = epochs)\n",
    "plot(loss_arr)"
   ]
  },
  {
   "cell_type": "code",
   "execution_count": 21,
   "metadata": {},
   "outputs": [
    {
     "name": "stdout",
     "output_type": "stream",
     "text": [
      "Using cpu device\n",
      "MyNetwork(\n",
      "  (model): Sequential(\n",
      "    (0): Conv2d(3, 6, kernel_size=(5, 5), stride=(1, 1))\n",
      "    (1): Sigmoid()\n",
      "    (2): AvgPool2d(kernel_size=(4, 4), stride=(4, 4), padding=0)\n",
      "    (3): Conv2d(6, 16, kernel_size=(5, 5), stride=(1, 1))\n",
      "    (4): Sigmoid()\n",
      "    (5): AvgPool2d(kernel_size=(4, 4), stride=(4, 4), padding=0)\n",
      "    (6): Flatten(start_dim=1, end_dim=-1)\n",
      "    (7): Linear(in_features=2304, out_features=512, bias=True)\n",
      "    (8): Sigmoid()\n",
      "    (9): Linear(in_features=512, out_features=62, bias=True)\n",
      "    (10): Sigmoid()\n",
      "  )\n",
      ")\n",
      "Epoch: 1 | loss: 0.5340457224845886\n",
      "Epoch: 2 | loss: 0.5099646639823914\n",
      "Epoch: 3 | loss: 0.5043559861183167\n",
      "Epoch: 4 | loss: 0.503445565700531\n",
      "Epoch: 5 | loss: 0.5032819056510925\n",
      "Epoch: 6 | loss: 0.5032294058799743\n",
      "Epoch: 7 | loss: 0.5010610342025756\n",
      "Epoch: 8 | loss: 0.5004717111587524\n",
      "Epoch: 9 | loss: 0.5006674385070801\n",
      "Epoch: 10 | loss: 0.4997899270057678\n"
     ]
    },
    {
     "data": {
      "image/png": "[encoded data removed]",
      "text/plain": [
       "<Figure size 432x288 with 1 Axes>"
      ]
     },
     "metadata": {
      "needs_background": "light"
     },
     "output_type": "display_data"
    }
   ],
   "source": [
    "class Network(nn.Module):\n",
    "    def __init__(self):\n",
    "        super(Network, self).__init__()\n",
    "        self.model = nn.Sequential(\n",
    "            \n",
    "            nn.Conv2d(in_channels = 3, out_channels = 6, kernel_size = 5),\n",
    "            nn.Sigmoid(),\n",
    "            nn.AvgPool2d(kernel_size = (4,4)),\n",
    "            nn.Conv2d(in_channels = 6, out_channels = 16, kernel_size = 5),\n",
    "            nn.Sigmoid(),\n",
    "            nn.AvgPool2d(kernel_size = (4,4)),\n",
    "            nn.Flatten(),\n",
    "            nn.Linear(in_features = 2304, out_features = 512, bias=True),\n",
    "            nn.Sigmoid(),\n",
    "            nn.Linear(in_features = 512, out_features = len(map_name_label), bias=True),\n",
    "            \n",
    "        )\n",
    "    def forward(self, x):\n",
    "        return self.model(x)\n",
    "\n",
    "    \n",
    "epochs = 10\n",
    "loss_arr = train(epochs = epochs)\n",
    "plot(loss_arr)"
   ]
  },
  {
   "cell_type": "code",
   "execution_count": 22,
   "metadata": {},
   "outputs": [
    {
     "name": "stdout",
     "output_type": "stream",
     "text": [
      "Using cpu device\n",
      "MyNetwork(\n",
      "  (model): Sequential(\n",
      "    (0): Conv2d(3, 6, kernel_size=(5, 5), stride=(1, 1))\n",
      "    (1): LeakyReLU(negative_slope=0.01)\n",
      "    (2): AvgPool2d(kernel_size=(4, 4), stride=(4, 4), padding=0)\n",
      "    (3): Conv2d(6, 16, kernel_size=(5, 5), stride=(1, 1))\n",
      "    (4): LeakyReLU(negative_slope=0.01)\n",
      "    (5): AvgPool2d(kernel_size=(4, 4), stride=(4, 4), padding=0)\n",
      "    (6): Flatten(start_dim=1, end_dim=-1)\n",
      "    (7): Linear(in_features=2304, out_features=512, bias=True)\n",
      "    (8): LeakyReLU(negative_slope=0.01)\n",
      "    (9): Linear(in_features=512, out_features=62, bias=True)\n",
      "  )\n",
      ")\n",
      "Epoch: 1 | loss: 0.5313963150978088\n",
      "Epoch: 2 | loss: 0.4683868932723999\n",
      "Epoch: 3 | loss: 0.40100305795669555\n",
      "Epoch: 4 | loss: 0.2892147493362427\n",
      "Epoch: 5 | loss: 0.18930746674537657\n",
      "Epoch: 6 | loss: 0.11620538592338563\n",
      "Epoch: 7 | loss: 0.05996110625565052\n",
      "Epoch: 8 | loss: 0.04195841625332832\n",
      "Epoch: 9 | loss: 0.04618318485096097\n",
      "Epoch: 10 | loss: 0.03719288640655577\n"
     ]
    },
    {
     "data": {
      "image/png": "[encoded data removed]",
      "text/plain": [
       "<Figure size 432x288 with 1 Axes>"
      ]
     },
     "metadata": {
      "needs_background": "light"
     },
     "output_type": "display_data"
    }
   ],
   "source": [
    "class MyNetwork(nn.Module):\n",
    "    def __init__(self):\n",
    "        super(MyNetwork, self).__init__()\n",
    "        self.model = nn.Sequential(\n",
    "            \n",
    "            nn.Conv2d(in_channels = 3, out_channels = 6, kernel_size = 5),\n",
    "            nn.LeakyReLU(negative_slope=0.01, inplace=False),\n",
    "            nn.AvgPool2d(kernel_size = (4,4)),\n",
    "            nn.Conv2d(in_channels = 6, out_channels = 16, kernel_size = 5),\n",
    "            nn.LeakyReLU(negative_slope=0.01, inplace=False),\n",
    "            nn.AvgPool2d(kernel_size = (4,4)),\n",
    "            nn.Flatten(),\n",
    "            nn.Linear(in_features = 2304, out_features = 512, bias=True),\n",
    "            nn.LeakyReLU(negative_slope=0.01, inplace=False),\n",
    "            nn.Linear(in_features = 512, out_features = len(name_label), bias=True),\n",
    "            \n",
    "        )\n",
    "    def forward(self, x):\n",
    "        return self.model(x)\n",
    "\n",
    "    \n",
    "epochs = 10\n",
    "loss_arr = train(epochs = epochs)\n",
    "plot(loss_arr)"
   ]
  },
  {
   "cell_type": "code",
   "execution_count": 23,
   "metadata": {},
   "outputs": [
    {
     "name": "stdout",
     "output_type": "stream",
     "text": [
      "Using cpu device\n",
      "MyNetwork(\n",
      "  (model): Sequential(\n",
      "    (0): Conv2d(3, 6, kernel_size=(5, 5), stride=(1, 1))\n",
      "    (1): ReLU()\n",
      "    (2): AvgPool2d(kernel_size=(4, 4), stride=(4, 4), padding=0)\n",
      "    (3): Conv2d(6, 16, kernel_size=(5, 5), stride=(1, 1))\n",
      "    (4): ReLU()\n",
      "    (5): AvgPool2d(kernel_size=(4, 4), stride=(4, 4), padding=0)\n",
      "    (6): Flatten(start_dim=1, end_dim=-1)\n",
      "    (7): Linear(in_features=2304, out_features=512, bias=True)\n",
      "    (8): ReLU()\n",
      "    (9): Linear(in_features=512, out_features=62, bias=True)\n",
      "  )\n",
      ")\n",
      "Epoch: 1 | loss: 0.5323517727851867\n",
      "Epoch: 2 | loss: 0.4661682105064392\n",
      "Epoch: 3 | loss: 0.3940266180038452\n",
      "Epoch: 4 | loss: 0.2889683449268341\n",
      "Epoch: 5 | loss: 0.179590106010437\n",
      "Epoch: 6 | loss: 0.09333199337124824\n",
      "Epoch: 7 | loss: 0.05317548587918282\n",
      "Epoch: 8 | loss: 0.04662277322262526\n",
      "Epoch: 9 | loss: 0.03353924550116062\n",
      "Epoch: 10 | loss: 0.019070525001734496\n"
     ]
    },
    {
     "data": {
      "image/png": "[encoded data removed]",
      "text/plain": [
       "<Figure size 432x288 with 1 Axes>"
      ]
     },
     "metadata": {
      "needs_background": "light"
     },
     "output_type": "display_data"
    }
   ],
   "source": [
    "class MyNetwork(nn.Module):\n",
    "    def __init__(self):\n",
    "        super(MyNetwork, self).__init__()\n",
    "        self.model = nn.Sequential(\n",
    "            \n",
    "            nn.Conv2d(in_channels = 3, out_channels = 6, kernel_size = 5),\n",
    "            nn.ReLU(),\n",
    "            nn.AvgPool2d(kernel_size = (4,4)),\n",
    "            nn.Conv2d(in_channels = 6, out_channels = 16, kernel_size = 5),\n",
    "            nn.ReLU(),\n",
    "            nn.AvgPool2d(kernel_size = (4,4)),\n",
    "            nn.Flatten(),\n",
    "            nn.Linear(in_features = 2304, out_features = 512, bias=True),\n",
    "            nn.ReLU(),\n",
    "            nn.Linear(in_features = 512, out_features = len(name_label), bias=True),\n",
    "        \n",
    "            \n",
    "        )\n",
    "    def forward(self, x):\n",
    "        return self.model(x)\n",
    "\n",
    "    \n",
    "epochs = 10\n",
    "loss_arr = train(epochs = epochs)\n",
    "plot(loss_arr)"
   ]
  },
  {
   "cell_type": "code",
   "execution_count": 24,
   "metadata": {},
   "outputs": [
    {
     "name": "stdout",
     "output_type": "stream",
     "text": [
      "Using cpu device\n",
      "MyNetwork(\n",
      "  (model): Sequential(\n",
      "    (0): Conv2d(3, 6, kernel_size=(5, 5), stride=(1, 1))\n",
      "    (1): Sigmoid()\n",
      "    (2): AvgPool2d(kernel_size=(4, 4), stride=(4, 4), padding=0)\n",
      "    (3): Conv2d(6, 16, kernel_size=(5, 5), stride=(1, 1))\n",
      "    (4): Sigmoid()\n",
      "    (5): AvgPool2d(kernel_size=(4, 4), stride=(4, 4), padding=0)\n",
      "    (6): Flatten(start_dim=1, end_dim=-1)\n",
      "    (7): Linear(in_features=2304, out_features=512, bias=True)\n",
      "    (8): Sigmoid()\n",
      "    (9): Linear(in_features=512, out_features=62, bias=True)\n",
      "  )\n",
      ")\n",
      "Epoch: 1 | loss: 0.593679780960083\n",
      "Epoch: 2 | loss: 0.49148271083831785\n",
      "Epoch: 3 | loss: 0.4771981906890869\n",
      "Epoch: 4 | loss: 0.47296311140060426\n",
      "Epoch: 5 | loss: 0.46793240547180176\n",
      "Epoch: 6 | loss: 0.4624021315574646\n",
      "Epoch: 7 | loss: 0.4518798995018005\n",
      "Epoch: 8 | loss: 0.4336570978164673\n",
      "Epoch: 9 | loss: 0.41259313583374024\n",
      "Epoch: 10 | loss: 0.3943023943901062\n"
     ]
    },
    {
     "data": {
      "image/png": "[encoded data removed]",
      "text/plain": [
       "<Figure size 432x288 with 1 Axes>"
      ]
     },
     "metadata": {
      "needs_background": "light"
     },
     "output_type": "display_data"
    }
   ],
   "source": [
    "class MyNetwork(nn.Module):\n",
    "    def __init__(self):\n",
    "        super(MyNetwork, self).__init__()\n",
    "        self.model = nn.Sequential(\n",
    "            \n",
    "            nn.Conv2d(in_channels = 3, out_channels = 6, kernel_size = 5),\n",
    "            nn.Sigmoid(),\n",
    "            nn.AvgPool2d(kernel_size = (4,4)),\n",
    "            nn.Conv2d(in_channels = 6, out_channels = 16, kernel_size = 5),\n",
    "            nn.Sigmoid(),\n",
    "            nn.AvgPool2d(kernel_size = (4,4)),\n",
    "            nn.Flatten(),\n",
    "            nn.Linear(in_features = 2304, out_features = 512, bias=True),\n",
    "            nn.Sigmoid(),\n",
    "            nn.Linear(in_features = 512, out_features = len(name_label), bias=True),\n",
    "\n",
    "            \n",
    "        )\n",
    "    def forward(self, x):\n",
    "        return self.model(x)\n",
    "\n",
    "    \n",
    "epochs = 10\n",
    "loss_arr = train(epochs = epochs)\n",
    "plot(loss_arr)"
   ]
  },
  {
   "cell_type": "code",
   "execution_count": 25,
   "metadata": {},
   "outputs": [
    {
     "name": "stdout",
     "output_type": "stream",
     "text": [
      "Using cpu device\n",
      "MyNetwork(\n",
      "  (model): Sequential(\n",
      "    (0): Conv2d(3, 6, kernel_size=(5, 5), stride=(1, 1))\n",
      "    (1): ReLU()\n",
      "    (2): AvgPool2d(kernel_size=(4, 4), stride=(4, 4), padding=0)\n",
      "    (3): Conv2d(6, 16, kernel_size=(5, 5), stride=(1, 1))\n",
      "    (4): ReLU()\n",
      "    (5): AvgPool2d(kernel_size=(4, 4), stride=(4, 4), padding=0)\n",
      "    (6): Flatten(start_dim=1, end_dim=-1)\n",
      "    (7): Linear(in_features=2304, out_features=512, bias=True)\n",
      "    (8): ReLU()\n",
      "    (9): Linear(in_features=512, out_features=62, bias=True)\n",
      "  )\n",
      ")\n",
      "Epoch: 1 | loss: 0.5343277478218078\n",
      "Epoch: 2 | loss: 0.48229594945907595\n",
      "Epoch: 3 | loss: 0.4294613075256348\n",
      "Epoch: 4 | loss: 0.3601236844062805\n",
      "Epoch: 5 | loss: 0.22833302974700928\n",
      "Epoch: 6 | loss: 0.181205123513937\n",
      "Epoch: 7 | loss: 0.10575802147388458\n",
      "Epoch: 8 | loss: 0.06218472521752119\n",
      "Epoch: 9 | loss: 0.03550680015236139\n",
      "Epoch: 10 | loss: 0.01991024725139141\n"
     ]
    },
    {
     "data": {
      "image/png": "[encoded data removed]",
      "text/plain": [
       "<Figure size 432x288 with 1 Axes>"
      ]
     },
     "metadata": {
      "needs_background": "light"
     },
     "output_type": "display_data"
    }
   ],
   "source": [
    "class MyNetwork(nn.Module):\n",
    "    def __init__(self):\n",
    "        super(MyNetwork, self).__init__()\n",
    "        self.model = nn.Sequential(\n",
    "            \n",
    "            nn.Conv2d(in_channels = 3, out_channels = 6, kernel_size = 5),\n",
    "            nn.ReLU(),\n",
    "            nn.AvgPool2d(kernel_size = (4,4)),\n",
    "            nn.Conv2d(in_channels = 6, out_channels = 16, kernel_size = 5),\n",
    "            nn.ReLU(),\n",
    "            nn.AvgPool2d(kernel_size = (4,4)),\n",
    "            nn.Flatten(),\n",
    "            nn.Linear(in_features = 2304, out_features = 512, bias=True),\n",
    "            nn.ReLU(),\n",
    "            nn.Linear(in_features = 512, out_features = len(name_label), bias=True)\n",
    "            \n",
    "        )\n",
    "    def forward(self, x):\n",
    "        return self.model(x)\n",
    "\n",
    "    \n",
    "epochs = 10\n",
    "loss_arr = train(epochs = epochs)\n",
    "plot(loss_arr)"
   ]
  },
  {
   "cell_type": "code",
   "execution_count": 26,
   "metadata": {},
   "outputs": [
    {
     "name": "stdout",
     "output_type": "stream",
     "text": [
      "Using cpu device\n",
      "MyNetwork(\n",
      "  (model): Sequential(\n",
      "    (0): Conv2d(3, 6, kernel_size=(5, 5), stride=(1, 1))\n",
      "    (1): ReLU()\n",
      "    (2): AvgPool2d(kernel_size=(4, 4), stride=(4, 4), padding=0)\n",
      "    (3): Conv2d(6, 16, kernel_size=(5, 5), stride=(1, 1))\n",
      "    (4): ReLU()\n",
      "    (5): AvgPool2d(kernel_size=(4, 4), stride=(4, 4), padding=0)\n",
      "    (6): Flatten(start_dim=1, end_dim=-1)\n",
      "    (7): Linear(in_features=2304, out_features=512, bias=True)\n",
      "    (8): ReLU()\n",
      "    (9): Linear(in_features=512, out_features=62, bias=True)\n",
      "    (10): Softmax(dim=None)\n",
      "  )\n",
      ")\n"
     ]
    },
    {
     "name": "stderr",
     "output_type": "stream",
     "text": [
      "/home/avani.gupta/anaconda3/lib/python3.7/site-packages/torch/nn/modules/container.py:119: UserWarning: Implicit dimension choice for softmax has been deprecated. Change the call to include dim=X as an argument.\n",
      "  input = module(input)\n"
     ]
    },
    {
     "name": "stdout",
     "output_type": "stream",
     "text": [
      "Epoch: 1 | loss: 0.5334133720397949\n",
      "Epoch: 2 | loss: 0.5288181734085083\n",
      "Epoch: 3 | loss: 0.5277900886535645\n",
      "Epoch: 4 | loss: 0.5251370525360107\n",
      "Epoch: 5 | loss: 0.5273018598556518\n",
      "Epoch: 6 | loss: 0.529881796836853\n",
      "Epoch: 7 | loss: 0.5254296326637268\n",
      "Epoch: 8 | loss: 0.5242197322845459\n",
      "Epoch: 9 | loss: 0.5258523035049438\n",
      "Epoch: 10 | loss: 0.5256007242202759\n"
     ]
    },
    {
     "data": {
      "image/png": "[encoded data removed]",
      "text/plain": [
       "<Figure size 432x288 with 1 Axes>"
      ]
     },
     "metadata": {
      "needs_background": "light"
     },
     "output_type": "display_data"
    }
   ],
   "source": [
    "class MyNetwork(nn.Module):\n",
    "    def __init__(self):\n",
    "        super(MyNetwork, self).__init__()\n",
    "        self.model = nn.Sequential(\n",
    "            \n",
    "            nn.Conv2d(in_channels = 3, out_channels = 6, kernel_size = 5),\n",
    "            nn.ReLU(),\n",
    "            nn.AvgPool2d(kernel_size = (4,4)),\n",
    "            nn.Conv2d(in_channels = 6, out_channels = 16, kernel_size = 5),\n",
    "            nn.ReLU(),\n",
    "            nn.AvgPool2d(kernel_size = (4,4)),\n",
    "            nn.Flatten(),\n",
    "            nn.Linear(in_features = 2304, out_features = 512, bias=True),\n",
    "            nn.ReLU(),\n",
    "            nn.Linear(in_features = 512, out_features = len(name_label), bias=True),\n",
    "            nn.Softmax()\n",
    "            \n",
    "        )\n",
    "    def forward(self, x):\n",
    "        return self.model(x)\n",
    "\n",
    "epochs = 10\n",
    "loss_arr = train(epochs = epochs)\n",
    "plot(loss_arr)"
   ]
  },
  {
   "cell_type": "code",
   "execution_count": 27,
   "metadata": {},
   "outputs": [
    {
     "name": "stdout",
     "output_type": "stream",
     "text": [
      "Using cpu device\n",
      "MyNetwork(\n",
      "  (model): Sequential(\n",
      "    (0): Conv2d(3, 6, kernel_size=(5, 5), stride=(1, 1))\n",
      "    (1): ReLU()\n",
      "    (2): AvgPool2d(kernel_size=(4, 4), stride=(4, 4), padding=0)\n",
      "    (3): Conv2d(6, 16, kernel_size=(5, 5), stride=(1, 1))\n",
      "    (4): ReLU()\n",
      "    (5): AvgPool2d(kernel_size=(4, 4), stride=(4, 4), padding=0)\n",
      "    (6): Flatten(start_dim=1, end_dim=-1)\n",
      "    (7): Linear(in_features=2304, out_features=512, bias=True)\n",
      "    (8): ReLU()\n",
      "    (9): Linear(in_features=512, out_features=62, bias=True)\n",
      "    (10): Softmax(dim=None)\n",
      "  )\n",
      ")\n"
     ]
    },
    {
     "name": "stderr",
     "output_type": "stream",
     "text": [
      "/home/avani.gupta/anaconda3/lib/python3.7/site-packages/torch/nn/modules/container.py:119: UserWarning: Implicit dimension choice for softmax has been deprecated. Change the call to include dim=X as an argument.\n",
      "  input = module(input)\n"
     ]
    },
    {
     "name": "stdout",
     "output_type": "stream",
     "text": [
      "Epoch: 1 | loss: 0.5305739712715148\n",
      "Epoch: 2 | loss: 0.5272856330871583\n",
      "Epoch: 3 | loss: 0.5255815744400024\n",
      "Epoch: 4 | loss: 0.5258797812461853\n",
      "Epoch: 5 | loss: 0.5245063161849975\n",
      "Epoch: 6 | loss: 0.5229422903060913\n",
      "Epoch: 7 | loss: 0.5229467582702637\n",
      "Epoch: 8 | loss: 0.5268557667732239\n",
      "Epoch: 9 | loss: 0.5285160565376281\n",
      "Epoch: 10 | loss: 0.5294783210754395\n"
     ]
    },
    {
     "data": {
      "image/png": "[encoded data removed]",
      "text/plain": [
       "<Figure size 432x288 with 1 Axes>"
      ]
     },
     "metadata": {
      "needs_background": "light"
     },
     "output_type": "display_data"
    }
   ],
   "source": [
    "class MyNetwork(nn.Module):\n",
    "    def __init__(self):\n",
    "        super(MyNetwork, self).__init__()\n",
    "        self.model = nn.Sequential(\n",
    "            \n",
    "            nn.Conv2d(in_channels = 3, out_channels = 6, kernel_size = 5),\n",
    "            nn.ReLU(),\n",
    "            nn.AvgPool2d(kernel_size = (4,4)),\n",
    "            nn.Conv2d(in_channels = 6, out_channels = 16, kernel_size = 5),\n",
    "            nn.ReLU(),\n",
    "            nn.AvgPool2d(kernel_size = (4,4)),\n",
    "            nn.Flatten(),\n",
    "            nn.Linear(in_features = 2304, out_features = 512, bias=True),\n",
    "            nn.ReLU(),\n",
    "            nn.Linear(in_features = 512, out_features = len(name_label), bias=True),\n",
    "            nn.Softmax()\n",
    "            \n",
    "        )\n",
    "    def forward(self, x):\n",
    "        return self.model(x)\n",
    "\n",
    "epochs = 10\n",
    "loss_arr = train(epochs = epochs)\n",
    "plot(loss_arr)"
   ]
  },
  {
   "cell_type": "markdown",
   "metadata": {},
   "source": [
    "## Different optimizer"
   ]
  },
  {
   "cell_type": "code",
   "execution_count": 28,
   "metadata": {},
   "outputs": [
    {
     "name": "stdout",
     "output_type": "stream",
     "text": [
      "Using cpu device\n",
      "MyNetwork(\n",
      "  (model): Sequential(\n",
      "    (0): Conv2d(3, 6, kernel_size=(5, 5), stride=(1, 1))\n",
      "    (1): ReLU()\n",
      "    (2): AvgPool2d(kernel_size=(4, 4), stride=(4, 4), padding=0)\n",
      "    (3): Conv2d(6, 16, kernel_size=(5, 5), stride=(1, 1))\n",
      "    (4): ReLU()\n",
      "    (5): AvgPool2d(kernel_size=(4, 4), stride=(4, 4), padding=0)\n",
      "    (6): Flatten(start_dim=1, end_dim=-1)\n",
      "    (7): Linear(in_features=2304, out_features=512, bias=True)\n",
      "    (8): ReLU()\n",
      "    (9): Linear(in_features=512, out_features=62, bias=True)\n",
      "    (10): Softmax(dim=None)\n",
      "  )\n",
      ")\n"
     ]
    },
    {
     "name": "stderr",
     "output_type": "stream",
     "text": [
      "/home/avani.gupta/anaconda3/lib/python3.7/site-packages/torch/nn/modules/container.py:119: UserWarning: Implicit dimension choice for softmax has been deprecated. Change the call to include dim=X as an argument.\n",
      "  input = module(input)\n"
     ]
    },
    {
     "name": "stdout",
     "output_type": "stream",
     "text": [
      "Epoch: 1 | loss: 0.5333965682983398\n",
      "Epoch: 2 | loss: 0.5281901454925537\n",
      "Epoch: 3 | loss: 0.5257142400741577\n",
      "Epoch: 4 | loss: 0.5250210380554199\n",
      "Epoch: 5 | loss: 0.5242484378814697\n",
      "Epoch: 6 | loss: 0.5217216634750366\n",
      "Epoch: 7 | loss: 0.5213362693786621\n",
      "Epoch: 8 | loss: 0.5209984850883483\n",
      "Epoch: 9 | loss: 0.5187482976913452\n",
      "Epoch: 10 | loss: 0.5182714343070984\n"
     ]
    },
    {
     "data": {
      "image/png": "[encoded data removed]",
      "text/plain": [
       "<Figure size 432x288 with 1 Axes>"
      ]
     },
     "metadata": {
      "needs_background": "light"
     },
     "output_type": "display_data"
    }
   ],
   "source": [
    "def train(type_optimizer= 'Adam', path = \"data/\", batch_size = 8, epochs = 20):\n",
    "    loss_arr = []\n",
    "     \n",
    "    if torch.cuda.is_available():\n",
    "        device = \"cuda\"\n",
    "    else:\n",
    "        device = \"cpu\"\n",
    "    print(\"Using {} device\".format(device))\n",
    "    model = MyNetwork().to(device)\n",
    "    print(model)\n",
    "    \n",
    "    transform_data =  {\n",
    "        'images': \n",
    "                transforms.Compose([\n",
    "                transforms.Resize((256, 256), interpolation = transforms.functional.InterpolationMode.BICUBIC),\n",
    "                transforms.CenterCrop((224, 224)),\n",
    "                transforms.Normalize(mean=[0.485, 0.456, 0.406], std=[0.229, 0.224, 0.225]),\n",
    "                ]),\n",
    "        'labels': \n",
    "                transforms.Compose([\n",
    "                transforms.Lambda(lambda y: name_label[y])\n",
    "                ])\n",
    "    }\n",
    "    optimizer = torch.optim.Adam(model.parameters(), lr=1e-3, weight_decay=1e-4)\n",
    "    if(type_optimizer == 'Adagrad'):\n",
    "        optimizer = torch.optim.Adagrad(model.parameters(), lr=1e-3, weight_decay=1e-4)\n",
    "    if(type_optimizer == 'SGD'):\n",
    "        optimizer = torch.optim.SGD(model.parameters(), lr=0.01, momentum=0.9)\n",
    "    if(type_optimizer == 'RMSprop'):\n",
    "        optimizer = torch.optim.RMSprop(model.parameters(), lr=0.01, alpha=0.99, eps=1e-08, weight_decay=0, momentum=0, centered=False)\n",
    "    \n",
    "    train_dataloader = DataLoader(LoadImageDataset(path + \"train.csv\", path + \"train_images/\", transform_data), batch_size = batch_size,  num_workers=2, shuffle=True)\n",
    "    \n",
    "    loss_fun = nn.CrossEntropyLoss()\n",
    "    \n",
    "\n",
    "    for epoch in range(epochs):\n",
    "        total_loss = 0\n",
    "        \n",
    "        for  dic in train_dataloader:\n",
    "            X = dic[\"image\"].to(device)\n",
    "            y = dic[\"label\"].to(device)\n",
    "            \n",
    "            # forward pass\n",
    "            y_preds = model(X)\n",
    "#             print(y_preds.shape)\n",
    "            loss = loss_fun(y_preds, y)\n",
    "            \n",
    "            # backpropagation\n",
    "            optimizer.zero_grad()\n",
    "            loss.backward()\n",
    "            optimizer.step()\n",
    "\n",
    "            total_loss += loss.item()\n",
    "           \n",
    "        total_loss /= len(train_dataloader.dataset)\n",
    "        loss_arr.append(total_loss)\n",
    "        print(\"Epoch: \"+ str(epoch+1) + \" | loss: \"+str(total_loss), flush = True)\n",
    "   \n",
    "    \n",
    "    return loss_arr\n",
    "\n",
    "\n",
    "def plot(loss_arr):\n",
    "    ind = np.arange(1, len(loss_arr)+1)\n",
    "    plt.plot(ind, np.array(loss_arr))\n",
    "\n",
    "    \n",
    "epochs = 10\n",
    "\n",
    "loss_arr = train(type_optimizer='Adagrad', epochs = epochs)\n",
    "plot(loss_arr) "
   ]
  },
  {
   "cell_type": "code",
   "execution_count": 29,
   "metadata": {},
   "outputs": [
    {
     "name": "stdout",
     "output_type": "stream",
     "text": [
      "Using cpu device\n",
      "MyNetwork(\n",
      "  (model): Sequential(\n",
      "    (0): Conv2d(3, 6, kernel_size=(5, 5), stride=(1, 1))\n",
      "    (1): ReLU()\n",
      "    (2): AvgPool2d(kernel_size=(4, 4), stride=(4, 4), padding=0)\n",
      "    (3): Conv2d(6, 16, kernel_size=(5, 5), stride=(1, 1))\n",
      "    (4): ReLU()\n",
      "    (5): AvgPool2d(kernel_size=(4, 4), stride=(4, 4), padding=0)\n",
      "    (6): Flatten(start_dim=1, end_dim=-1)\n",
      "    (7): Linear(in_features=2304, out_features=512, bias=True)\n",
      "    (8): ReLU()\n",
      "    (9): Linear(in_features=512, out_features=62, bias=True)\n",
      "    (10): Softmax(dim=None)\n",
      "  )\n",
      ")\n"
     ]
    },
    {
     "name": "stderr",
     "output_type": "stream",
     "text": [
      "/home/avani.gupta/anaconda3/lib/python3.7/site-packages/torch/nn/modules/container.py:119: UserWarning: Implicit dimension choice for softmax has been deprecated. Change the call to include dim=X as an argument.\n",
      "  input = module(input)\n"
     ]
    },
    {
     "name": "stdout",
     "output_type": "stream",
     "text": [
      "Epoch: 1 | loss: 0.531054072380066\n",
      "Epoch: 2 | loss: 0.5288313388824463\n",
      "Epoch: 3 | loss: 0.5275813388824463\n",
      "Epoch: 4 | loss: 0.5288313388824463\n",
      "Epoch: 5 | loss: 0.5275813388824463\n",
      "Epoch: 6 | loss: 0.5288313388824463\n",
      "Epoch: 7 | loss: 0.5275813388824463\n",
      "Epoch: 8 | loss: 0.5288313388824463\n",
      "Epoch: 9 | loss: 0.5288313388824463\n",
      "Epoch: 10 | loss: 0.5288313388824463\n"
     ]
    },
    {
     "data": {
      "image/png": "[encoded data removed]",
      "text/plain": [
       "<Figure size 432x288 with 1 Axes>"
      ]
     },
     "metadata": {
      "needs_background": "light"
     },
     "output_type": "display_data"
    }
   ],
   "source": [
    "epochs = 10\n",
    "loss_arr = train(type_optimizer='RMSprop', epochs = epochs)\n",
    "plot(loss_arr)"
   ]
  },
  {
   "cell_type": "code",
   "execution_count": 30,
   "metadata": {},
   "outputs": [
    {
     "name": "stdout",
     "output_type": "stream",
     "text": [
      "Using cpu device\n",
      "MyNetwork(\n",
      "  (model): Sequential(\n",
      "    (0): Conv2d(3, 6, kernel_size=(5, 5), stride=(1, 1))\n",
      "    (1): ReLU()\n",
      "    (2): AvgPool2d(kernel_size=(4, 4), stride=(4, 4), padding=0)\n",
      "    (3): Conv2d(6, 16, kernel_size=(5, 5), stride=(1, 1))\n",
      "    (4): ReLU()\n",
      "    (5): AvgPool2d(kernel_size=(4, 4), stride=(4, 4), padding=0)\n",
      "    (6): Flatten(start_dim=1, end_dim=-1)\n",
      "    (7): Linear(in_features=2304, out_features=512, bias=True)\n",
      "    (8): ReLU()\n",
      "    (9): Linear(in_features=512, out_features=62, bias=True)\n",
      "    (10): Softmax(dim=None)\n",
      "  )\n",
      ")\n"
     ]
    },
    {
     "name": "stderr",
     "output_type": "stream",
     "text": [
      "/home/avani.gupta/anaconda3/lib/python3.7/site-packages/torch/nn/modules/container.py:119: UserWarning: Implicit dimension choice for softmax has been deprecated. Change the call to include dim=X as an argument.\n",
      "  input = module(input)\n"
     ]
    },
    {
     "name": "stdout",
     "output_type": "stream",
     "text": [
      "Epoch: 1 | loss: 0.5365407991409302\n",
      "Epoch: 2 | loss: 0.5365230417251587\n",
      "Epoch: 3 | loss: 0.5365087080001831\n",
      "Epoch: 4 | loss: 0.5364892816543579\n",
      "Epoch: 5 | loss: 0.536466407775879\n",
      "Epoch: 6 | loss: 0.5364475154876709\n",
      "Epoch: 7 | loss: 0.5364207267761231\n",
      "Epoch: 8 | loss: 0.5363971376419068\n",
      "Epoch: 9 | loss: 0.5363604927062988\n",
      "Epoch: 10 | loss: 0.5363198232650757\n"
     ]
    },
    {
     "data": {
      "image/png": "[encoded data removed]",
      "text/plain": [
       "<Figure size 432x288 with 1 Axes>"
      ]
     },
     "metadata": {
      "needs_background": "light"
     },
     "output_type": "display_data"
    }
   ],
   "source": [
    "epochs = 10\n",
    "loss_arr = train(type_optimizer='SGD', epochs = epochs)\n",
    "plot(loss_arr)"
   ]
  },
  {
   "cell_type": "markdown",
   "metadata": {},
   "source": [
    "## Data Augmentation"
   ]
  },
  {
   "cell_type": "code",
   "execution_count": 31,
   "metadata": {},
   "outputs": [
    {
     "name": "stdout",
     "output_type": "stream",
     "text": [
      "Using cpu device\n",
      "MyNetwork(\n",
      "  (model): Sequential(\n",
      "    (0): Conv2d(3, 6, kernel_size=(5, 5), stride=(1, 1))\n",
      "    (1): ReLU()\n",
      "    (2): AvgPool2d(kernel_size=(4, 4), stride=(4, 4), padding=0)\n",
      "    (3): Conv2d(6, 16, kernel_size=(5, 5), stride=(1, 1))\n",
      "    (4): ReLU()\n",
      "    (5): AvgPool2d(kernel_size=(4, 4), stride=(4, 4), padding=0)\n",
      "    (6): Flatten(start_dim=1, end_dim=-1)\n",
      "    (7): Linear(in_features=2304, out_features=512, bias=True)\n",
      "    (8): ReLU()\n",
      "    (9): Linear(in_features=512, out_features=62, bias=True)\n",
      "    (10): Softmax(dim=None)\n",
      "  )\n",
      ")\n"
     ]
    },
    {
     "name": "stderr",
     "output_type": "stream",
     "text": [
      "/home/avani.gupta/anaconda3/lib/python3.7/site-packages/torch/nn/modules/container.py:119: UserWarning: Implicit dimension choice for softmax has been deprecated. Change the call to include dim=X as an argument.\n",
      "  input = module(input)\n"
     ]
    },
    {
     "name": "stdout",
     "output_type": "stream",
     "text": [
      "Epoch: 1 | loss: 0.5335429787635804\n",
      "Epoch: 2 | loss: 0.5273442435264587\n",
      "Epoch: 3 | loss: 0.526484751701355\n",
      "Epoch: 4 | loss: 0.5250053548812866\n",
      "Epoch: 5 | loss: 0.5218956255912781\n",
      "Epoch: 6 | loss: 0.5215629696846008\n",
      "Epoch: 7 | loss: 0.519661991596222\n",
      "Epoch: 8 | loss: 0.5181243658065796\n",
      "Epoch: 9 | loss: 0.5169534587860107\n",
      "Epoch: 10 | loss: 0.5149200010299683\n"
     ]
    },
    {
     "data": {
      "image/png": "[encoded data removed]",
      "text/plain": [
       "<Figure size 432x288 with 1 Axes>"
      ]
     },
     "metadata": {
      "needs_background": "light"
     },
     "output_type": "display_data"
    }
   ],
   "source": [
    "def train(type_optimizer= 'Adam', path = \"data/\", batch_size = 8, epochs = 20, transform_data_type=0):\n",
    "    loss_arr = []\n",
    "     \n",
    "    if torch.cuda.is_available():\n",
    "        device = \"cuda\"\n",
    "    else:\n",
    "        device = \"cpu\"\n",
    "    print(\"Using {} device\".format(device))\n",
    "    model = MyNetwork().to(device)\n",
    "    print(model)\n",
    "    transform_data =  {\n",
    "        'images': \n",
    "                transforms.Compose([\n",
    "                transforms.Resize((256, 256), interpolation = transforms.functional.InterpolationMode.BICUBIC),\n",
    "                transforms.CenterCrop((224, 224)),\n",
    "                transforms.Normalize(mean=[0.485, 0.456, 0.406], std=[0.229, 0.224, 0.225]),\n",
    "                ]),\n",
    "        'labels': \n",
    "                transforms.Compose([\n",
    "                transforms.Lambda(lambda y: name_label[y])\n",
    "                ])\n",
    "    }\n",
    "    \n",
    "    if(transform_data_type == 1):\n",
    "         transform_data =  {\n",
    "        'images': \n",
    "                transforms.Compose([\n",
    "                transforms.Resize((256, 256), interpolation = transforms.functional.InterpolationMode.BICUBIC),\n",
    "                transforms.CenterCrop((224, 224)),\n",
    "                transforms.Normalize(mean=[0.485, 0.456, 0.406], std=[0.229, 0.224, 0.225]),\n",
    "                transforms.RandomHorizontalFlip(),\n",
    "                ]),\n",
    "        'labels': \n",
    "                transforms.Compose([\n",
    "                transforms.Lambda(lambda y: name_label[y]),\n",
    "                    \n",
    "                ])\n",
    "    }\n",
    "    if(transform_data_type == 2):\n",
    "         transform_data =  {\n",
    "        'images': \n",
    "                transforms.Compose([\n",
    "                transforms.Resize((256, 256), interpolation = transforms.functional.InterpolationMode.BICUBIC),\n",
    "                transforms.CenterCrop((224, 224)),\n",
    "                transforms.Normalize(mean=[0.485, 0.456, 0.406], std=[0.229, 0.224, 0.225]),\n",
    "                transforms.RandomHorizontalFlip(),\n",
    "                transforms.ColorJitter(),\n",
    "                    \n",
    "                ]),\n",
    "        'labels': \n",
    "                transforms.Compose([\n",
    "                transforms.Lambda(lambda y: name_label[y]),\n",
    "                    \n",
    "                ])\n",
    "    }\n",
    "    \n",
    "        \n",
    "    \n",
    "    optimizer = torch.optim.Adam(model.parameters(), lr=1e-3, weight_decay=1e-4)\n",
    "    if(type_optimizer == 'Adagrad'):\n",
    "        optimizer = torch.optim.Adagrad(model.parameters(), lr=1e-3, weight_decay=1e-4)\n",
    "    if(type_optimizer == 'SGD'):\n",
    "        optimizer = torch.optim.SGD(model.parameters(), lr=0.01, momentum=0.9)\n",
    "    if(type_optimizer == 'RMSprop'):\n",
    "        optimizer = torch.optim.RMSprop(model.parameters(), lr=0.01, alpha=0.99, eps=1e-08, weight_decay=0, momentum=0, centered=False)\n",
    "    \n",
    "    train_dataloader = DataLoader(LoadImageDataset(path + \"train.csv\", path + \"train_images/\", transform_data), batch_size = batch_size,  num_workers=2, shuffle=True)\n",
    "    \n",
    "    loss_fun = nn.CrossEntropyLoss()\n",
    "    \n",
    "\n",
    "    for epoch in range(epochs):\n",
    "        total_loss = 0\n",
    "        \n",
    "        for  dic in train_dataloader:\n",
    "            X = dic[\"image\"].to(device)\n",
    "            y = dic[\"label\"].to(device)\n",
    "            \n",
    "            # forward pass\n",
    "            y_preds = model(X)\n",
    "#             print(y_preds.shape)\n",
    "            loss = loss_fun(y_preds, y)\n",
    "            \n",
    "            # backpropagation\n",
    "            optimizer.zero_grad()\n",
    "            loss.backward()\n",
    "            optimizer.step()\n",
    "\n",
    "            total_loss += loss.item()\n",
    "           \n",
    "        total_loss /= len(train_dataloader.dataset)\n",
    "        loss_arr.append(total_loss)\n",
    "        print(\"Epoch: \"+ str(epoch+1) + \" | loss: \"+str(total_loss), flush = True)\n",
    "   \n",
    "    \n",
    "    return loss_arr\n",
    "\n",
    "\n",
    "def plot(loss_arr):\n",
    "    ind = np.arange(1, len(loss_arr)+1)\n",
    "    plt.plot(ind, np.array(loss_arr))\n",
    "\n",
    "    \n",
    "epochs = 10\n",
    "\n",
    "loss_arr = train(type_optimizer='Adagrad', epochs = epochs)\n",
    "plot(loss_arr) "
   ]
  },
  {
   "cell_type": "code",
   "execution_count": 32,
   "metadata": {},
   "outputs": [
    {
     "name": "stdout",
     "output_type": "stream",
     "text": [
      "Using cpu device\n",
      "MyNetwork(\n",
      "  (model): Sequential(\n",
      "    (0): Conv2d(3, 6, kernel_size=(5, 5), stride=(1, 1))\n",
      "    (1): ReLU()\n",
      "    (2): AvgPool2d(kernel_size=(4, 4), stride=(4, 4), padding=0)\n",
      "    (3): Conv2d(6, 16, kernel_size=(5, 5), stride=(1, 1))\n",
      "    (4): ReLU()\n",
      "    (5): AvgPool2d(kernel_size=(4, 4), stride=(4, 4), padding=0)\n",
      "    (6): Flatten(start_dim=1, end_dim=-1)\n",
      "    (7): Linear(in_features=2304, out_features=512, bias=True)\n",
      "    (8): ReLU()\n",
      "    (9): Linear(in_features=512, out_features=62, bias=True)\n",
      "    (10): Softmax(dim=None)\n",
      "  )\n",
      ")\n"
     ]
    },
    {
     "name": "stderr",
     "output_type": "stream",
     "text": [
      "/home/avani.gupta/anaconda3/lib/python3.7/site-packages/torch/nn/modules/container.py:119: UserWarning: Implicit dimension choice for softmax has been deprecated. Change the call to include dim=X as an argument.\n",
      "  input = module(input)\n"
     ]
    },
    {
     "name": "stdout",
     "output_type": "stream",
     "text": [
      "Epoch: 1 | loss: 0.5363215637207032\n",
      "Epoch: 2 | loss: 0.527514808177948\n",
      "Epoch: 3 | loss: 0.5284229516983032\n",
      "Epoch: 4 | loss: 0.5220014095306397\n",
      "Epoch: 5 | loss: 0.5222182369232178\n",
      "Epoch: 6 | loss: 0.522419719696045\n",
      "Epoch: 7 | loss: 0.5195842242240906\n",
      "Epoch: 8 | loss: 0.513704047203064\n",
      "Epoch: 9 | loss: 0.5238337540626525\n",
      "Epoch: 10 | loss: 0.5244262051582337\n"
     ]
    },
    {
     "data": {
      "image/png": "[encoded data removed]",
      "text/plain": [
       "<Figure size 432x288 with 1 Axes>"
      ]
     },
     "metadata": {
      "needs_background": "light"
     },
     "output_type": "display_data"
    }
   ],
   "source": [
    "epochs = 10\n",
    "loss_arr = train(epochs = epochs, transform_data_type=1)\n",
    "plot(loss_arr) "
   ]
  },
  {
   "cell_type": "code",
   "execution_count": 33,
   "metadata": {},
   "outputs": [
    {
     "name": "stdout",
     "output_type": "stream",
     "text": [
      "Using cpu device\n",
      "MyNetwork(\n",
      "  (model): Sequential(\n",
      "    (0): Conv2d(3, 6, kernel_size=(5, 5), stride=(1, 1))\n",
      "    (1): ReLU()\n",
      "    (2): AvgPool2d(kernel_size=(4, 4), stride=(4, 4), padding=0)\n",
      "    (3): Conv2d(6, 16, kernel_size=(5, 5), stride=(1, 1))\n",
      "    (4): ReLU()\n",
      "    (5): AvgPool2d(kernel_size=(4, 4), stride=(4, 4), padding=0)\n",
      "    (6): Flatten(start_dim=1, end_dim=-1)\n",
      "    (7): Linear(in_features=2304, out_features=512, bias=True)\n",
      "    (8): ReLU()\n",
      "    (9): Linear(in_features=512, out_features=62, bias=True)\n",
      "    (10): Softmax(dim=None)\n",
      "  )\n",
      ")\n"
     ]
    },
    {
     "name": "stderr",
     "output_type": "stream",
     "text": [
      "/home/avani.gupta/anaconda3/lib/python3.7/site-packages/torch/nn/modules/container.py:119: UserWarning: Implicit dimension choice for softmax has been deprecated. Change the call to include dim=X as an argument.\n",
      "  input = module(input)\n"
     ]
    },
    {
     "name": "stdout",
     "output_type": "stream",
     "text": [
      "Epoch: 1 | loss: 0.5328909468650818\n",
      "Epoch: 2 | loss: 0.5282698059082032\n",
      "Epoch: 3 | loss: 0.5322217822074891\n",
      "Epoch: 4 | loss: 0.5253687191009522\n",
      "Epoch: 5 | loss: 0.5263639259338379\n",
      "Epoch: 6 | loss: 0.5243204593658447\n",
      "Epoch: 7 | loss: 0.5227575421333313\n",
      "Epoch: 8 | loss: 0.5189781141281128\n",
      "Epoch: 9 | loss: 0.5202006101608276\n",
      "Epoch: 10 | loss: 0.5171976900100708\n"
     ]
    },
    {
     "data": {
      "image/png": "[encoded data removed]",
      "text/plain": [
       "<Figure size 432x288 with 1 Axes>"
      ]
     },
     "metadata": {
      "needs_background": "light"
     },
     "output_type": "display_data"
    }
   ],
   "source": [
    "epochs = 10\n",
    "loss_arr = train(epochs = epochs, transform_data_type=2)\n",
    "plot(loss_arr) "
   ]
  },
  {
   "cell_type": "markdown",
   "metadata": {},
   "source": [
    "### **With Batch Norm**\n",
    "* Batch normalization regularizes the network which prevents overfitting.\n",
    "* Helps in resolving vanishing gradient problem.\n",
    "* Faster convergences and better performance.\n",
    "\n",
    "\n",
    "### **Adding new layers**\n",
    "* Might increase perfomance (as visible from loss graphs)\n",
    "* Chances of overfitting.\n",
    "\n",
    "\n",
    "### **With Dropout**\n",
    "* Regulation method.\n",
    "* Reduces overfitting.\n",
    "* Drop some of neurons randomly.\n",
    "* Improved loss in some cases as shown.\n",
    "\n",
    "### **Different activation functions at the end**\n",
    "* **Softmax**\n",
    " $$\\text{Softmax}(x_{i}) = \\frac{\\exp(x_i)}{\\sum_j \\exp(x_j)} $$\n",
    "    * Used in Multi-class classification.\n",
    "    * Softmax activation gives a probability distribution (the outputs sum to one and each output is between 0-1)\n",
    "    * Thus we use Softmax at end layer when class labels are mutually exclusive(which is in our case!)\n",
    "\n",
    "    \n",
    "    \n",
    "<!-- * **KL Divergence**\n",
    "![caption](attachments/KL.png)\n",
    "    * Measures distance between probability distributions.\n",
    "\n",
    "     -->\n",
    "    \n",
    "Note: Sigmoid is used in binary classification (hence can'nt be used in our case)\n",
    " $$ h_ \\theta (x) = \\frac{\\mathrm{1} }{\\mathrm{1} + e^- \\theta^Tx }$$\n",
    "\n",
    "* Leaky ReLU and ReLU were tried in between layers. Leaky Relu helps prevent vanishing gradient problem and thus helped in loss.\n",
    "\n",
    "\n",
    "### **Different pooling strategies**\n",
    "* **Max pooling**\n",
    "    * Max pooling is a sample-based discretization process. \n",
    "    * Used to reduce dimensionality of feature maps.\n",
    "    * Takes max operator over sliding window.\n",
    "* **Avg Pooling**\n",
    "    * Takes Avg operator over sliding window.\n",
    "    \n",
    "Average pooling was found to perfom better.\n",
    "\n",
    "### **Different optimizers**\n",
    "* **SGD**\n",
    "    * Stochastic Gradience Descent\n",
    "    * Suffers from vanishing gradient problem.\n",
    "    \n",
    "* **RMSProp**\n",
    "    * Helps in vanishing gradient.\n",
    "    * Uses an adaptive learning rate\n",
    "    * Uses a moving average of squared gradients to normalize the gradient. \n",
    "    * This normalization balances the step size  (momentum)\n",
    "    * Decreases the step for large gradients to avoid exploding\n",
    "    * Increases the step for small gradients to avoid vanishing. \n",
    "\n",
    "* **Adagrad (Adaptive Gradient Algorithm)**\n",
    "    * For a sparse feature input where most of the values are zero, we can afford a higher learning rate which will boost the dying gradient resulted from these sparse features. If we have dense data, then we can have slower learning. \n",
    "    * Adjusts the learning rate according to values of gradient incurred.\n",
    "    * When larger updates take smaller learning rate.\n",
    "    * When smaller updates increase learning rate.\n",
    "\n",
    "* **Adam**\n",
    "    * Adam combines the best properties of the AdaGrad and RMSProp algorithms to provide an optimization algorithm that can handle sparse gradients on noisy problems.\n",
    "    * Adam is relatively easy to configure where the default configuration parameters do well on most problems.\n",
    "    \n",
    " \n",
    "SGD Could'nt converge well.\n",
    "\n",
    "We observed the best convergence and model performance in Adam.\n",
    "\n",
    "\n",
    "   \n",
    "\n",
    "### **Basic Augmentation like Rotation, Translation, Color Change**\n",
    "* Augmentation is used to add robustness to the train data. \n",
    "* Helps to improve the performance of model.\n",
    "\n"
   ]
  }
 ],
 "metadata": {
  "kernelspec": {
   "display_name": "Python 3",
   "language": "python",
   "name": "python3"
  },
  "language_info": {
   "codemirror_mode": {
    "name": "ipython",
    "version": 3
   },
   "file_extension": ".py",
   "mimetype": "text/x-python",
   "name": "python",
   "nbconvert_exporter": "python",
   "pygments_lexer": "ipython3",
   "version": "3.8.5"
  }
 },
 "nbformat": 4,
 "nbformat_minor": 4
}
