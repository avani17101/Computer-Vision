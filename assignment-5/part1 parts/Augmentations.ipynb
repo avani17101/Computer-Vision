{
 "cells": [
  {
   "cell_type": "code",
   "execution_count": 1,
   "metadata": {},
   "outputs": [],
   "source": [
    "import pandas as pd\n",
    "import torch\n",
    "from torch import nn\n",
    "from torch.utils.data import Dataset, DataLoader\n",
    "import torch.nn.functional as F\n",
    "from torchvision.io import read_image\n",
    "from torchvision import models, transforms\n",
    "import time\n",
    "import numpy as np\n",
    "import matplotlib.pyplot as plt\n",
    "from sklearn.utils import shuffle"
   ]
  },
  {
   "cell_type": "code",
   "execution_count": 2,
   "metadata": {},
   "outputs": [],
   "source": [
    "f = open(\"data/dataset_info.txt\", \"r\")\n",
    "labels = f.readlines()[1:]\n",
    "f.close()\n",
    "\n",
    "name_label = {}\n",
    "lb_list = []\n",
    "\n",
    "for i in range(len(labels)):\n",
    "    lb = labels[i].replace(\"\\n\", \"\").strip().split(\". \")[1]\n",
    "    lb_list.append(lb)\n",
    "    name_label[lb] = 0\n",
    "    \n",
    "for i in range(len(lb_list)):\n",
    "    name_label[lb_list[i]] += i\n",
    "    \n",
    "label_name = list(name_label.keys())\n"
   ]
  },
  {
   "cell_type": "code",
   "execution_count": 3,
   "metadata": {},
   "outputs": [],
   "source": [
    "class LoadImageDataset(Dataset):\n",
    "    def __init__(self, imgname_labels_file, img_dir, transform_data = None, typee = 'train',train = True):\n",
    "        self.df_imgname_labels = pd.read_csv(imgname_labels_file)\n",
    "        self.df_imgname_labels = shuffle(self.df_imgname_labels)\n",
    "        if(typee == 'train'):\n",
    "            self.df_imgname_labels = self.df_imgname_labels[:9000]\n",
    "        if(typee == 'val'):\n",
    "            self.df_imgname_labels = self.df_imgname_labels[9000:]\n",
    "        \n",
    "        \n",
    "        self.img_dir = img_dir\n",
    "        self.transform_data =  transform_data\n",
    "        self.train = train\n",
    "        \n",
    "    def __len__(self):\n",
    "        return len(self.df_imgname_labels)\n",
    "    \n",
    "    def __getitem__(self, idx):\n",
    "        path = self.img_dir + self.df_imgname_labels.iloc[idx, 0]\n",
    "        img =  read_image(path)/ 255.\n",
    "        result = {\"image\": img, \"label\": -1}\n",
    "        if self.train:\n",
    "            lb = self.df_imgname_labels.iloc[idx, 1]\n",
    "            result[\"label\"] = lb\n",
    "            if self.transform_data:\n",
    "                result[\"label\"] = self.transform_data['labels'](result[\"label\"])\n",
    "                result[\"image\"] = self.transform_data['images'](result[\"image\"])\n",
    "        else:\n",
    "            lb = 0\n",
    "            result[\"label\"] = lb\n",
    "            if self.transform_data: \n",
    "                result[\"image\"] = self.transform_data['images'](result[\"image\"])\n",
    "        \n",
    "        return result"
   ]
  },
  {
   "cell_type": "code",
   "execution_count": 4,
   "metadata": {},
   "outputs": [],
   "source": [
    "class MyNetwork(nn.Module):\n",
    "    def __init__(self):\n",
    "        super(MyNetwork, self).__init__()\n",
    "        self.model = nn.Sequential(\n",
    "            nn.Conv2d(in_channels = 3, out_channels = 6, kernel_size = 5),\n",
    "            nn.ReLU(),\n",
    "            nn.BatchNorm2d(num_features = 6),\n",
    "            nn.MaxPool2d(kernel_size = (4,4)),\n",
    "           \n",
    "            nn.Conv2d(in_channels = 6, out_channels = 16, kernel_size = 5),\n",
    "            nn.ReLU(),\n",
    "            nn.BatchNorm2d(num_features = 16),\n",
    "            nn.MaxPool2d(kernel_size = (4,4)),\n",
    "            nn.Flatten(),\n",
    "            \n",
    "            nn.Linear(in_features = 2304, out_features = 1024, bias=True),\n",
    "            nn.ReLU(),\n",
    "            nn.Linear(in_features = 1024, out_features = len(name_label), bias = True),\n",
    "        )\n",
    "    def forward(self, x):\n",
    "        return self.model(x)"
   ]
  },
  {
   "cell_type": "markdown",
   "metadata": {},
   "source": [
    "## Data Augmentation"
   ]
  },
  {
   "cell_type": "code",
   "execution_count": 5,
   "metadata": {},
   "outputs": [
    {
     "name": "stdout",
     "output_type": "stream",
     "text": [
      "Using cuda device\n",
      "MyNetwork(\n",
      "  (model): Sequential(\n",
      "    (0): Conv2d(3, 6, kernel_size=(5, 5), stride=(1, 1))\n",
      "    (1): ReLU()\n",
      "    (2): BatchNorm2d(6, eps=1e-05, momentum=0.1, affine=True, track_running_stats=True)\n",
      "    (3): MaxPool2d(kernel_size=(4, 4), stride=(4, 4), padding=0, dilation=1, ceil_mode=False)\n",
      "    (4): Conv2d(6, 16, kernel_size=(5, 5), stride=(1, 1))\n",
      "    (5): ReLU()\n",
      "    (6): BatchNorm2d(16, eps=1e-05, momentum=0.1, affine=True, track_running_stats=True)\n",
      "    (7): MaxPool2d(kernel_size=(4, 4), stride=(4, 4), padding=0, dilation=1, ceil_mode=False)\n",
      "    (8): Flatten(start_dim=1, end_dim=-1)\n",
      "    (9): Linear(in_features=2304, out_features=1024, bias=True)\n",
      "    (10): ReLU()\n",
      "    (11): Linear(in_features=1024, out_features=62, bias=True)\n",
      "  )\n",
      ")\n",
      "Epoch: 1 | loss: 0.4126159181859758 | val loss: 0.36366032003987314\n",
      "Epoch: 2 | loss: 0.3554224430852466 | val loss: 0.3345896367318121\n",
      "Epoch: 3 | loss: 0.32724791368510986 | val loss: 0.30897227713936254\n",
      "Epoch: 4 | loss: 0.3049209549890624 | val loss: 0.28027922081135376\n",
      "Epoch: 5 | loss: 0.2833395606014464 | val loss: 0.267174667987292\n",
      "Epoch: 6 | loss: 0.2637344436314371 | val loss: 0.24713952032036088\n",
      "Epoch: 7 | loss: 0.24615141059954962 | val loss: 0.23205674617283115\n",
      "Epoch: 8 | loss: 0.2305247000919448 | val loss: 0.2186869047005479\n",
      "Epoch: 9 | loss: 0.21372234791517258 | val loss: 0.20980612642993868\n",
      "Epoch: 10 | loss: 0.19752185597022373 | val loss: 0.18832807662686327\n"
     ]
    },
    {
     "data": {
      "image/png": "[encoded data removed]",
      "text/plain": [
       "<Figure size 432x288 with 1 Axes>"
      ]
     },
     "metadata": {
      "needs_background": "light"
     },
     "output_type": "display_data"
    }
   ],
   "source": [
    "def train(type_optimizer= 'Adam', path = \"data/\", batch_size = 8, epochs = 20, transform_data_type=0):\n",
    "    loss_arr = []\n",
    "    val_loss_arr = []\n",
    "     \n",
    "    if torch.cuda.is_available():\n",
    "        device = \"cuda\"\n",
    "    else:\n",
    "        device = \"cpu\"\n",
    "    print(\"Using {} device\".format(device))\n",
    "    model = MyNetwork().to(device)\n",
    "    print(model)\n",
    "    transform_data =  {\n",
    "        'images': \n",
    "                transforms.Compose([\n",
    "                transforms.Resize((256, 256), interpolation = transforms.functional.InterpolationMode.BICUBIC),\n",
    "                transforms.CenterCrop((224, 224)),\n",
    "                transforms.Normalize(mean=[0.485, 0.456, 0.406], std=[0.229, 0.224, 0.225]),\n",
    "                ]),\n",
    "        'labels': \n",
    "                transforms.Compose([\n",
    "                transforms.Lambda(lambda y: name_label[y])\n",
    "                ])\n",
    "    }\n",
    "    \n",
    "    if(transform_data_type == 1):\n",
    "         transform_data =  {\n",
    "        'images': \n",
    "                transforms.Compose([\n",
    "                transforms.Resize((256, 256), interpolation = transforms.functional.InterpolationMode.BICUBIC),\n",
    "                transforms.CenterCrop((224, 224)),\n",
    "                transforms.Normalize(mean=[0.485, 0.456, 0.406], std=[0.229, 0.224, 0.225]),\n",
    "                transforms.RandomHorizontalFlip(),\n",
    "                ]),\n",
    "        'labels': \n",
    "                transforms.Compose([\n",
    "                transforms.Lambda(lambda y: name_label[y]),\n",
    "                    \n",
    "                ])\n",
    "    }\n",
    "    if(transform_data_type == 2):\n",
    "         transform_data =  {\n",
    "        'images': \n",
    "                transforms.Compose([\n",
    "                transforms.Resize((256, 256), interpolation = transforms.functional.InterpolationMode.BICUBIC),\n",
    "                transforms.CenterCrop((224, 224)),\n",
    "                transforms.Normalize(mean=[0.485, 0.456, 0.406], std=[0.229, 0.224, 0.225]),\n",
    "                transforms.RandomHorizontalFlip(),\n",
    "                transforms.ColorJitter(),\n",
    "                    \n",
    "                ]),\n",
    "        'labels': \n",
    "                transforms.Compose([\n",
    "                transforms.Lambda(lambda y: name_label[y]),\n",
    "                    \n",
    "                ])\n",
    "    }\n",
    "    \n",
    "        \n",
    "    \n",
    "    optimizer = torch.optim.Adam(model.parameters(), lr=1e-3, weight_decay=1e-4)\n",
    "    if(type_optimizer == 'Adagrad'):\n",
    "        optimizer = torch.optim.Adagrad(model.parameters(), lr=1e-3, weight_decay=1e-4)\n",
    "    if(type_optimizer == 'SGD'):\n",
    "        optimizer = torch.optim.SGD(model.parameters(), lr=0.01, momentum=0.9)\n",
    "    if(type_optimizer == 'RMSprop'):\n",
    "        optimizer = torch.optim.RMSprop(model.parameters(), lr=0.01, alpha=0.99, eps=1e-08, weight_decay=0, momentum=0, centered=False)\n",
    "    \n",
    "    train_dataloader = DataLoader(LoadImageDataset(path + \"train.csv\", path + \"train_images/\", transform_data), batch_size = batch_size,  num_workers=2, shuffle=True)\n",
    "    val_dataloader = DataLoader(LoadImageDataset(path + \"train.csv\", path + \"train_images/\", transform_data, typee='val'), batch_size = batch_size,  num_workers=2, shuffle=True)\n",
    "    loss_fun = nn.CrossEntropyLoss()\n",
    "    \n",
    "\n",
    "    for epoch in range(epochs):\n",
    "        total_loss = 0\n",
    "        val_loss = 0\n",
    "        \n",
    "        for  dic in train_dataloader:\n",
    "            X = dic[\"image\"].to(device)\n",
    "            y = dic[\"label\"].to(device)\n",
    "            \n",
    "            # forward pass\n",
    "            y_preds = model(X)\n",
    "#             print(y_preds.shape)\n",
    "            loss = loss_fun(y_preds, y)\n",
    "            \n",
    "            # backpropagation\n",
    "            optimizer.zero_grad()\n",
    "            loss.backward()\n",
    "            optimizer.step()\n",
    "\n",
    "            total_loss += loss.item()\n",
    "           \n",
    "    \n",
    "        for dic in val_dataloader:\n",
    "            X = dic[\"image\"].to(device)\n",
    "            y = dic[\"label\"].to(device)\n",
    "\n",
    "            y_preds = model(X)\n",
    "            loss = loss_fun(y_preds, y)\n",
    "            val_loss += loss.item()\n",
    "        \n",
    "        \n",
    "        total_loss /= len(train_dataloader.dataset)\n",
    "        val_loss /= len(val_dataloader.dataset)\n",
    "        loss_arr.append(total_loss)\n",
    "        val_loss_arr.append(val_loss)\n",
    "        \n",
    "        print(\"Epoch: \"+ str(epoch+1) + \" | loss: \"+str(total_loss) + \" | val loss: \"+str(val_loss), flush = True)\n",
    "    \n",
    "    return loss_arr, val_loss_arr\n",
    "\n",
    "\n",
    "\n",
    "def plot(loss_arr, val_loss_arr):\n",
    "    ind = np.arange(1, len(loss_arr)+1)\n",
    "    plt.plot(ind, np.array(loss_arr))\n",
    "    plt.plot(ind, np.array(val_loss_arr))\n",
    "    plt.legend(['Train', 'Val'], loc='upper left')\n",
    "\n",
    "    \n",
    "epochs = 10\n",
    "\n",
    "loss_arr, val_loss_arr = train(type_optimizer='Adagrad', epochs = epochs)\n",
    "plot(loss_arr, val_loss_arr) "
   ]
  },
  {
   "cell_type": "code",
   "execution_count": 6,
   "metadata": {},
   "outputs": [
    {
     "name": "stdout",
     "output_type": "stream",
     "text": [
      "Using cuda device\n",
      "MyNetwork(\n",
      "  (model): Sequential(\n",
      "    (0): Conv2d(3, 6, kernel_size=(5, 5), stride=(1, 1))\n",
      "    (1): ReLU()\n",
      "    (2): BatchNorm2d(6, eps=1e-05, momentum=0.1, affine=True, track_running_stats=True)\n",
      "    (3): MaxPool2d(kernel_size=(4, 4), stride=(4, 4), padding=0, dilation=1, ceil_mode=False)\n",
      "    (4): Conv2d(6, 16, kernel_size=(5, 5), stride=(1, 1))\n",
      "    (5): ReLU()\n",
      "    (6): BatchNorm2d(16, eps=1e-05, momentum=0.1, affine=True, track_running_stats=True)\n",
      "    (7): MaxPool2d(kernel_size=(4, 4), stride=(4, 4), padding=0, dilation=1, ceil_mode=False)\n",
      "    (8): Flatten(start_dim=1, end_dim=-1)\n",
      "    (9): Linear(in_features=2304, out_features=1024, bias=True)\n",
      "    (10): ReLU()\n",
      "    (11): Linear(in_features=1024, out_features=62, bias=True)\n",
      "  )\n",
      ")\n",
      "Epoch: 1 | loss: 0.43949238084422215 | val loss: 0.400903162203337\n",
      "Epoch: 2 | loss: 0.3886267899274826 | val loss: 0.379010749306103\n",
      "Epoch: 3 | loss: 0.3670207576486799 | val loss: 0.3521950089894581\n",
      "Epoch: 4 | loss: 0.35044644881619347 | val loss: 0.3532481278428352\n",
      "Epoch: 5 | loss: 0.3370852685372035 | val loss: 0.32968273140697657\n",
      "Epoch: 6 | loss: 0.32495380787054695 | val loss: 0.31716119431120693\n",
      "Epoch: 7 | loss: 0.31143872837225595 | val loss: 0.2948740108094348\n",
      "Epoch: 8 | loss: 0.30005502783589894 | val loss: 0.28184755188023713\n",
      "Epoch: 9 | loss: 0.28632534793350434 | val loss: 0.27745542548389257\n",
      "Epoch: 10 | loss: 0.27510644883579677 | val loss: 0.25199408132594436\n"
     ]
    },
    {
     "data": {
      "image/png": "[encoded data removed]",
      "text/plain": [
       "<Figure size 432x288 with 1 Axes>"
      ]
     },
     "metadata": {
      "needs_background": "light"
     },
     "output_type": "display_data"
    }
   ],
   "source": [
    "epochs = 10\n",
    "\n",
    "loss_arr, val_loss_arr = train(epochs = epochs, transform_data_type=2)\n",
    "plot(loss_arr, val_loss_arr) "
   ]
  },
  {
   "cell_type": "code",
   "execution_count": 9,
   "metadata": {},
   "outputs": [
    {
     "name": "stdout",
     "output_type": "stream",
     "text": [
      "Using cuda device\n",
      "MyNetwork(\n",
      "  (model): Sequential(\n",
      "    (0): Conv2d(3, 6, kernel_size=(5, 5), stride=(1, 1))\n",
      "    (1): ReLU()\n",
      "    (2): BatchNorm2d(6, eps=1e-05, momentum=0.1, affine=True, track_running_stats=True)\n",
      "    (3): MaxPool2d(kernel_size=(4, 4), stride=(4, 4), padding=0, dilation=1, ceil_mode=False)\n",
      "    (4): Conv2d(6, 16, kernel_size=(5, 5), stride=(1, 1))\n",
      "    (5): ReLU()\n",
      "    (6): BatchNorm2d(16, eps=1e-05, momentum=0.1, affine=True, track_running_stats=True)\n",
      "    (7): MaxPool2d(kernel_size=(4, 4), stride=(4, 4), padding=0, dilation=1, ceil_mode=False)\n",
      "    (8): Flatten(start_dim=1, end_dim=-1)\n",
      "    (9): Linear(in_features=2304, out_features=1024, bias=True)\n",
      "    (10): ReLU()\n",
      "    (11): Linear(in_features=1024, out_features=62, bias=True)\n",
      "  )\n",
      ")\n",
      "Epoch: 1 | loss: 0.4365271542204751 | val loss: 0.3982473342411289\n",
      "Epoch: 2 | loss: 0.38077126484447055 | val loss: 0.36448798644653413\n",
      "Epoch: 3 | loss: 0.3608340067333645 | val loss: 0.32810776300105515\n",
      "Epoch: 4 | loss: 0.34417700775464377 | val loss: 0.32702318175289286\n",
      "Epoch: 5 | loss: 0.33106054562330245 | val loss: 0.30721694175672976\n",
      "Epoch: 6 | loss: 0.32020702937576506 | val loss: 0.31816352170318274\n",
      "Epoch: 7 | loss: 0.30761603111690944 | val loss: 0.2749770687829599\n",
      "Epoch: 8 | loss: 0.29796573450167974 | val loss: 0.2826417418825368\n",
      "Epoch: 9 | loss: 0.28573182110653983 | val loss: 0.27093223669211564\n",
      "Epoch: 10 | loss: 0.2744527197612657 | val loss: 0.2377041216605219\n"
     ]
    },
    {
     "ename": "TypeError",
     "evalue": "plot() missing 1 required positional argument: 'val_loss_arr'",
     "output_type": "error",
     "traceback": [
      "\u001b[0;31m---------------------------------------------------------------------------\u001b[0m",
      "\u001b[0;31mTypeError\u001b[0m                                 Traceback (most recent call last)",
      "\u001b[0;32m<ipython-input-9-839d213257cd>\u001b[0m in \u001b[0;36m<module>\u001b[0;34m\u001b[0m\n\u001b[1;32m      1\u001b[0m \u001b[0mepochs\u001b[0m \u001b[0;34m=\u001b[0m \u001b[0;36m10\u001b[0m\u001b[0;34m\u001b[0m\u001b[0;34m\u001b[0m\u001b[0m\n\u001b[1;32m      2\u001b[0m \u001b[0mloss_arr\u001b[0m \u001b[0;34m=\u001b[0m \u001b[0mtrain\u001b[0m\u001b[0;34m(\u001b[0m\u001b[0mepochs\u001b[0m \u001b[0;34m=\u001b[0m \u001b[0mepochs\u001b[0m\u001b[0;34m,\u001b[0m \u001b[0mtransform_data_type\u001b[0m\u001b[0;34m=\u001b[0m\u001b[0;36m1\u001b[0m\u001b[0;34m)\u001b[0m\u001b[0;34m\u001b[0m\u001b[0;34m\u001b[0m\u001b[0m\n\u001b[0;32m----> 3\u001b[0;31m \u001b[0mplot\u001b[0m\u001b[0;34m(\u001b[0m\u001b[0mloss_arr\u001b[0m\u001b[0;34m)\u001b[0m\u001b[0;34m\u001b[0m\u001b[0;34m\u001b[0m\u001b[0m\n\u001b[0m",
      "\u001b[0;31mTypeError\u001b[0m: plot() missing 1 required positional argument: 'val_loss_arr'"
     ]
    }
   ],
   "source": [
    "epochs = 10\n",
    "\n",
    "loss_arr, val_loss_arr = train(epochs = epochs, transform_data_type=1)\n",
    "plot(loss_arr) "
   ]
  },
  {
   "cell_type": "code",
   "execution_count": 12,
   "metadata": {},
   "outputs": [],
   "source": [
    "loss_arr = [0.4365271542204751, 0.38077126484447055, 0.3608340067333645,  0.34417700775464377,0.33106054562330245, 0.32020702937576506, 0.30761603111690944, 0.29796573450167974, 0.28573182110653983 , 0.2744527197612657]\n",
    "val_loss_arr = [0.3982473342411289, 0.36448798644653413,  0.32810776300105515, 0.32702318175289286,  0.30721694175672976,  0.31816352170318274,  0.2749770687829599, 0.2826417418825368,  0.27093223669211564, 0.2377041216605219]"
   ]
  },
  {
   "cell_type": "code",
   "execution_count": 13,
   "metadata": {},
   "outputs": [
    {
     "data": {
      "image/png": "[encoded data removed]",
      "text/plain": [
       "<Figure size 432x288 with 1 Axes>"
      ]
     },
     "metadata": {
      "needs_background": "light"
     },
     "output_type": "display_data"
    }
   ],
   "source": [
    "plot(loss_arr, val_loss_arr) "
   ]
  }
 ],
 "metadata": {
  "kernelspec": {
   "display_name": "Python 3",
   "language": "python",
   "name": "python3"
  },
  "language_info": {
   "codemirror_mode": {
    "name": "ipython",
    "version": 3
   },
   "file_extension": ".py",
   "mimetype": "text/x-python",
   "name": "python",
   "nbconvert_exporter": "python",
   "pygments_lexer": "ipython3",
   "version": "3.7.6"
  }
 },
 "nbformat": 4,
 "nbformat_minor": 4
}
