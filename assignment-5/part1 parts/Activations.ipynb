{
 "cells": [
  {
   "cell_type": "code",
   "execution_count": 1,
   "metadata": {},
   "outputs": [],
   "source": [
    "import pandas as pd\n",
    "import torch\n",
    "from torch import nn\n",
    "from torch.utils.data import Dataset, DataLoader\n",
    "import torch.nn.functional as F\n",
    "from torchvision.io import read_image\n",
    "from torchvision import models, transforms\n",
    "import time\n",
    "import numpy as np\n",
    "import matplotlib.pyplot as plt\n",
    "from sklearn.utils import shuffle"
   ]
  },
  {
   "cell_type": "code",
   "execution_count": 2,
   "metadata": {},
   "outputs": [],
   "source": [
    "f = open(\"data/dataset_info.txt\", \"r\")\n",
    "labels = f.readlines()[1:]\n",
    "f.close()\n",
    "\n",
    "name_label = {}\n",
    "lb_list = []\n",
    "\n",
    "for i in range(len(labels)):\n",
    "    lb = labels[i].replace(\"\\n\", \"\").strip().split(\". \")[1]\n",
    "    lb_list.append(lb)\n",
    "    name_label[lb] = 0\n",
    "    \n",
    "for i in range(len(lb_list)):\n",
    "    name_label[lb_list[i]] += i\n",
    "    \n",
    "label_name = list(name_label.keys())\n"
   ]
  },
  {
   "cell_type": "code",
   "execution_count": 3,
   "metadata": {},
   "outputs": [],
   "source": [
    "class LoadImageDataset(Dataset):\n",
    "    def __init__(self, imgname_labels_file, img_dir, transform_data = None, typee = 'train',train = True):\n",
    "        self.df_imgname_labels = pd.read_csv(imgname_labels_file)\n",
    "        self.df_imgname_labels = shuffle(self.df_imgname_labels)\n",
    "        if(typee == 'train'):\n",
    "            self.df_imgname_labels = self.df_imgname_labels[:9000]\n",
    "        if(typee == 'val'):\n",
    "            self.df_imgname_labels = self.df_imgname_labels[9000:]\n",
    "        \n",
    "        \n",
    "        self.img_dir = img_dir\n",
    "        self.transform_data =  transform_data\n",
    "        self.train = train\n",
    "        \n",
    "    def __len__(self):\n",
    "        return len(self.df_imgname_labels)\n",
    "    \n",
    "    def __getitem__(self, idx):\n",
    "        path = self.img_dir + self.df_imgname_labels.iloc[idx, 0]\n",
    "        img =  read_image(path)/ 255.\n",
    "        result = {\"image\": img, \"label\": -1}\n",
    "        if self.train:\n",
    "            lb = self.df_imgname_labels.iloc[idx, 1]\n",
    "            result[\"label\"] = lb\n",
    "            if self.transform_data:\n",
    "                result[\"label\"] = self.transform_data['labels'](result[\"label\"])\n",
    "                result[\"image\"] = self.transform_data['images'](result[\"image\"])\n",
    "        else:\n",
    "            lb = 0\n",
    "            result[\"label\"] = lb\n",
    "            if self.transform_data: \n",
    "                result[\"image\"] = self.transform_data['images'](result[\"image\"])\n",
    "        \n",
    "        return result"
   ]
  },
  {
   "cell_type": "code",
   "execution_count": 4,
   "metadata": {},
   "outputs": [],
   "source": [
    "def train(path = \"data/\", batch_size = 8, epochs = 20):\n",
    "    loss_arr = []\n",
    "    val_loss_arr = []\n",
    "     \n",
    "    if torch.cuda.is_available():\n",
    "        device = \"cuda\"\n",
    "    else:\n",
    "        device = \"cpu\"\n",
    "    print(\"Using {} device\".format(device))\n",
    "    model = MyNetwork().to(device)\n",
    "    print(model)\n",
    "    \n",
    "    transform_data =  {\n",
    "        'images': \n",
    "                transforms.Compose([\n",
    "                transforms.Resize((256, 256), interpolation = transforms.functional.InterpolationMode.BICUBIC),\n",
    "                transforms.CenterCrop((224, 224)),\n",
    "                transforms.Normalize(mean=[0.485, 0.456, 0.406], std=[0.229, 0.224, 0.225]),\n",
    "                ]),\n",
    "        'labels': \n",
    "                transforms.Compose([\n",
    "                transforms.Lambda(lambda y: name_label[y])\n",
    "                ])\n",
    "    }\n",
    "   \n",
    "    train_dataloader = DataLoader(LoadImageDataset(path + \"train.csv\", path + \"train_images/\", transform_data, typee='train'), batch_size = batch_size,  num_workers=2, shuffle=True)\n",
    "    val_dataloader = DataLoader(LoadImageDataset(path + \"train.csv\", path + \"train_images/\", transform_data, typee='val'), batch_size = batch_size,  num_workers=2, shuffle=True)\n",
    "    loss_fun = nn.NLLLoss()\n",
    "    optimizer = torch.optim.Adam(model.parameters(), lr=1e-3, weight_decay=1e-4)\n",
    "    \n",
    "    for epoch in range(epochs):\n",
    "        total_loss = 0\n",
    "        val_loss = 0\n",
    "        \n",
    "        for  dic in train_dataloader:\n",
    "            X = dic[\"image\"].to(device)\n",
    "            y = dic[\"label\"].to(device)\n",
    "            \n",
    "            # forward pass\n",
    "            y_preds = model(X)\n",
    "            loss = loss_fun(y_preds, y)\n",
    "            \n",
    "            # backpropagation\n",
    "            optimizer.zero_grad()\n",
    "            loss.backward()\n",
    "            optimizer.step()\n",
    "            total_loss += loss.item()\n",
    "            \n",
    "        for  dic in val_dataloader:\n",
    "            X = dic[\"image\"].to(device)\n",
    "            y = dic[\"label\"].to(device)\n",
    "            \n",
    "            y_preds = model(X)\n",
    "            loss = loss_fun(y_preds, y)\n",
    "            val_loss += loss.item()\n",
    "       \n",
    "        total_loss /= len(train_dataloader.dataset)\n",
    "        val_loss /= len(val_dataloader.dataset)\n",
    "        loss_arr.append(total_loss)\n",
    "        val_loss_arr.append(val_loss)\n",
    "        \n",
    "        print(\"Epoch: \"+ str(epoch+1) + \" | loss: \"+str(total_loss) + \" | val loss: \"+str(val_loss), flush = True)\n",
    "    \n",
    "    return loss_arr, val_loss_arr\n",
    "\n",
    "\n",
    "def plot(loss_arr, val_loss_arr):\n",
    "    ind = np.arange(1, len(loss_arr)+1)\n",
    "    plt.plot(ind, np.array(loss_arr))\n",
    "    plt.plot(ind, np.array(val_loss_arr))\n",
    "    plt.legend(['Train', 'Val'], loc='upper left')\n"
   ]
  },
  {
   "cell_type": "markdown",
   "metadata": {},
   "source": [
    "## Playing with Activation functions"
   ]
  },
  {
   "cell_type": "code",
   "execution_count": 5,
   "metadata": {},
   "outputs": [],
   "source": [
    "class MyNetwork(nn.Module):\n",
    "    def __init__(self):\n",
    "        super(MyNetwork, self).__init__()\n",
    "        self.model = nn.Sequential(\n",
    "            nn.Conv2d(in_channels = 3, out_channels = 6, kernel_size = 5),\n",
    "            nn.ReLU(),\n",
    "            nn.BatchNorm2d(num_features = 6),\n",
    "            nn.MaxPool2d(kernel_size = (4,4)),\n",
    "           \n",
    "            nn.Conv2d(in_channels = 6, out_channels = 16, kernel_size = 5),\n",
    "            nn.ReLU(),\n",
    "            nn.BatchNorm2d(num_features = 16),\n",
    "            nn.MaxPool2d(kernel_size = (4,4)),\n",
    "            nn.Flatten(),\n",
    "            \n",
    "            nn.Linear(in_features = 2304, out_features = 1024, bias=True),\n",
    "            nn.ReLU(),\n",
    "            nn.Linear(in_features = 1024, out_features = len(name_label), bias = True),\n",
    "            nn.Softmax()\n",
    "        )\n",
    "    def forward(self, x):\n",
    "        return self.model(x)\n"
   ]
  },
  {
   "cell_type": "code",
   "execution_count": 6,
   "metadata": {},
   "outputs": [
    {
     "name": "stdout",
     "output_type": "stream",
     "text": [
      "Using cuda device\n",
      "MyNetwork(\n",
      "  (model): Sequential(\n",
      "    (0): Conv2d(3, 6, kernel_size=(5, 5), stride=(1, 1))\n",
      "    (1): ReLU()\n",
      "    (2): BatchNorm2d(6, eps=1e-05, momentum=0.1, affine=True, track_running_stats=True)\n",
      "    (3): MaxPool2d(kernel_size=(4, 4), stride=(4, 4), padding=0, dilation=1, ceil_mode=False)\n",
      "    (4): Conv2d(6, 16, kernel_size=(5, 5), stride=(1, 1))\n",
      "    (5): ReLU()\n",
      "    (6): BatchNorm2d(16, eps=1e-05, momentum=0.1, affine=True, track_running_stats=True)\n",
      "    (7): MaxPool2d(kernel_size=(4, 4), stride=(4, 4), padding=0, dilation=1, ceil_mode=False)\n",
      "    (8): Flatten(start_dim=1, end_dim=-1)\n",
      "    (9): Linear(in_features=2304, out_features=1024, bias=True)\n",
      "    (10): ReLU()\n",
      "    (11): Linear(in_features=1024, out_features=62, bias=True)\n",
      "    (12): Softmax(dim=None)\n",
      "  )\n",
      ")\n"
     ]
    },
    {
     "name": "stderr",
     "output_type": "stream",
     "text": [
      "/home/avani.gupta/anaconda3/lib/python3.7/site-packages/torch/nn/modules/container.py:119: UserWarning: Implicit dimension choice for softmax has been deprecated. Change the call to include dim=X as an argument.\n",
      "  input = module(input)\n"
     ]
    },
    {
     "name": "stdout",
     "output_type": "stream",
     "text": [
      "Epoch: 1 | loss: -0.010955467978230141 | val loss: -0.018961990281695207\n",
      "Epoch: 2 | loss: -0.012783492916074 | val loss: -0.018587653854183206\n",
      "Epoch: 3 | loss: -0.011064172118415296 | val loss: -0.015739187694829494\n",
      "Epoch: 4 | loss: -0.010484051378702794 | val loss: -0.01780185758513932\n",
      "Epoch: 5 | loss: -0.011505096812388264 | val loss: -0.013802580698650905\n",
      "Epoch: 6 | loss: -0.012113482142521224 | val loss: -0.018833851343016943\n",
      "Epoch: 7 | loss: -0.012811583106883353 | val loss: -0.015007434992982216\n",
      "Epoch: 8 | loss: -0.012064813686647415 | val loss: -0.016124716129723722\n",
      "Epoch: 9 | loss: -0.012323041256416416 | val loss: -0.015094004261942394\n",
      "Epoch: 10 | loss: -0.012289675329367018 | val loss: -0.015487298295053244\n"
     ]
    },
    {
     "data": {
      "image/png": "[encoded data removed]",
      "text/plain": [
       "<Figure size 432x288 with 1 Axes>"
      ]
     },
     "metadata": {
      "needs_background": "light"
     },
     "output_type": "display_data"
    }
   ],
   "source": [
    "epochs = 10\n",
    "loss_arr, val_loss_arr= train(epochs = epochs)\n",
    "plot(loss_arr, val_loss_arr)"
   ]
  },
  {
   "cell_type": "code",
   "execution_count": 7,
   "metadata": {},
   "outputs": [
    {
     "name": "stdout",
     "output_type": "stream",
     "text": [
      "Using cuda device\n",
      "MyNetwork(\n",
      "  (model): Sequential(\n",
      "    (0): Conv2d(3, 6, kernel_size=(5, 5), stride=(1, 1))\n",
      "    (1): LeakyReLU(negative_slope=0.01)\n",
      "    (2): BatchNorm2d(6, eps=1e-05, momentum=0.1, affine=True, track_running_stats=True)\n",
      "    (3): MaxPool2d(kernel_size=(4, 4), stride=(4, 4), padding=0, dilation=1, ceil_mode=False)\n",
      "    (4): Conv2d(6, 16, kernel_size=(5, 5), stride=(1, 1))\n",
      "    (5): LeakyReLU(negative_slope=0.01)\n",
      "    (6): BatchNorm2d(16, eps=1e-05, momentum=0.1, affine=True, track_running_stats=True)\n",
      "    (7): MaxPool2d(kernel_size=(4, 4), stride=(4, 4), padding=0, dilation=1, ceil_mode=False)\n",
      "    (8): Flatten(start_dim=1, end_dim=-1)\n",
      "    (9): Linear(in_features=2304, out_features=1024, bias=True)\n",
      "    (10): LeakyReLU(negative_slope=0.01)\n",
      "    (11): Linear(in_features=1024, out_features=62, bias=True)\n",
      "    (12): Softmax(dim=None)\n",
      "  )\n",
      ")\n"
     ]
    },
    {
     "name": "stderr",
     "output_type": "stream",
     "text": [
      "/home/avani.gupta/anaconda3/lib/python3.7/site-packages/torch/nn/modules/container.py:119: UserWarning: Implicit dimension choice for softmax has been deprecated. Change the call to include dim=X as an argument.\n",
      "  input = module(input)\n"
     ]
    },
    {
     "name": "stdout",
     "output_type": "stream",
     "text": [
      "Epoch: 1 | loss: -0.007007931428557616 | val loss: -0.008904471974800396\n",
      "Epoch: 2 | loss: -0.012997446633629875 | val loss: -0.012770966162776924\n",
      "Epoch: 3 | loss: -0.014301666522376162 | val loss: -0.015737874589117865\n",
      "Epoch: 4 | loss: -0.013645231094042212 | val loss: -0.012255222213040193\n",
      "Epoch: 5 | loss: -0.014266562661426311 | val loss: -0.012701024471013398\n",
      "Epoch: 6 | loss: -0.013598352185642289 | val loss: -0.01354486622575492\n",
      "Epoch: 7 | loss: -0.014144149285114337 | val loss: -0.008126756724189416\n",
      "Epoch: 8 | loss: -0.013181127881169508 | val loss: -0.0112226654551603\n",
      "Epoch: 9 | loss: -0.011797605799723828 | val loss: -0.007223942533900892\n",
      "Epoch: 10 | loss: -0.007871361226824676 | val loss: -0.011437778733586791\n"
     ]
    },
    {
     "data": {
      "image/png": "[encoded data removed]",
      "text/plain": [
       "<Figure size 432x288 with 1 Axes>"
      ]
     },
     "metadata": {
      "needs_background": "light"
     },
     "output_type": "display_data"
    }
   ],
   "source": [
    "class MyNetwork(nn.Module):\n",
    "    def __init__(self):\n",
    "        super(MyNetwork, self).__init__()\n",
    "        self.model = nn.Sequential(\n",
    "            nn.Conv2d(in_channels = 3, out_channels = 6, kernel_size = 5),\n",
    "            nn.LeakyReLU(negative_slope=0.01, inplace=False),\n",
    "            nn.BatchNorm2d(num_features = 6),\n",
    "            nn.MaxPool2d(kernel_size = (4,4)),\n",
    "           \n",
    "            nn.Conv2d(in_channels = 6, out_channels = 16, kernel_size = 5),\n",
    "            nn.LeakyReLU(negative_slope=0.01, inplace=False),\n",
    "            nn.BatchNorm2d(num_features = 16),\n",
    "            nn.MaxPool2d(kernel_size = (4,4)),\n",
    "            nn.Flatten(),\n",
    "            \n",
    "            nn.Linear(in_features = 2304, out_features = 1024, bias=True),\n",
    "            nn.LeakyReLU(negative_slope=0.01, inplace=False),\n",
    "            nn.Linear(in_features = 1024, out_features = len(name_label), bias = True),\n",
    "            nn.Softmax()\n",
    "        )\n",
    "    def forward(self, x):\n",
    "        return self.model(x)\n",
    "\n",
    "epochs = 10\n",
    "loss_arr, val_loss_arr= train(epochs = epochs)\n",
    "plot(loss_arr, val_loss_arr)"
   ]
  }
 ],
 "metadata": {
  "kernelspec": {
   "display_name": "Python 3",
   "language": "python",
   "name": "python3"
  },
  "language_info": {
   "codemirror_mode": {
    "name": "ipython",
    "version": 3
   },
   "file_extension": ".py",
   "mimetype": "text/x-python",
   "name": "python",
   "nbconvert_exporter": "python",
   "pygments_lexer": "ipython3",
   "version": "3.7.6"
  }
 },
 "nbformat": 4,
 "nbformat_minor": 4
}
