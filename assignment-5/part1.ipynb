{
 "cells": [
  {
   "cell_type": "code",
   "execution_count": 1,
   "metadata": {},
   "outputs": [],
   "source": [
    "import pandas as pd\n",
    "import torch\n",
    "from torch import nn\n",
    "from torch.utils.data import Dataset, DataLoader\n",
    "import torch.nn.functional as F\n",
    "from torchvision.io import read_image\n",
    "from torchvision import models, transforms\n",
    "import time\n",
    "import numpy as np\n",
    "import matplotlib.pyplot as plt\n",
    "from sklearn.utils import shuffle"
   ]
  },
  {
   "cell_type": "code",
   "execution_count": 2,
   "metadata": {},
   "outputs": [],
   "source": [
    "f = open(\"data/dataset_info.txt\", \"r\")\n",
    "labels = f.readlines()[1:]\n",
    "f.close()\n",
    "\n",
    "name_label = {}\n",
    "lb_list = []\n",
    "\n",
    "for i in range(len(labels)):\n",
    "    lb = labels[i].replace(\"\\n\", \"\").strip().split(\". \")[1]\n",
    "    lb_list.append(lb)\n",
    "    name_label[lb] = 0\n",
    "    \n",
    "for i in range(len(lb_list)):\n",
    "    name_label[lb_list[i]] += i\n",
    "    \n",
    "label_name = list(name_label.keys())\n"
   ]
  },
  {
   "cell_type": "code",
   "execution_count": 3,
   "metadata": {},
   "outputs": [],
   "source": [
    "class LoadImageDataset(Dataset):\n",
    "    def __init__(self, imgname_labels_file, img_dir, transform_data = None, typee = 'train',train = True):\n",
    "        self.df_imgname_labels = pd.read_csv(imgname_labels_file)\n",
    "        self.df_imgname_labels = shuffle(self.df_imgname_labels)\n",
    "        if(typee == 'train'):\n",
    "            self.df_imgname_labels = self.df_imgname_labels[:9000]\n",
    "        if(typee == 'val'):\n",
    "            self.df_imgname_labels = self.df_imgname_labels[9000:]\n",
    "        \n",
    "        \n",
    "        self.img_dir = img_dir\n",
    "        self.transform_data =  transform_data\n",
    "        self.train = train\n",
    "        \n",
    "    def __len__(self):\n",
    "        return len(self.df_imgname_labels)\n",
    "    \n",
    "    def __getitem__(self, idx):\n",
    "        path = self.img_dir + self.df_imgname_labels.iloc[idx, 0]\n",
    "        img =  read_image(path)/ 255.\n",
    "        result = {\"image\": img, \"label\": -1}\n",
    "        if self.train:\n",
    "            lb = self.df_imgname_labels.iloc[idx, 1]\n",
    "            result[\"label\"] = lb\n",
    "            if self.transform_data:\n",
    "                result[\"label\"] = self.transform_data['labels'](result[\"label\"])\n",
    "                result[\"image\"] = self.transform_data['images'](result[\"image\"])\n",
    "        else:\n",
    "            lb = 0\n",
    "            result[\"label\"] = lb\n",
    "            if self.transform_data: \n",
    "                result[\"image\"] = self.transform_data['images'](result[\"image\"])\n",
    "        \n",
    "        return result"
   ]
  },
  {
   "cell_type": "markdown",
   "metadata": {},
   "source": [
    "## Basic Network"
   ]
  },
  {
   "cell_type": "code",
   "execution_count": 4,
   "metadata": {},
   "outputs": [],
   "source": [
    "class MyNetwork(nn.Module):\n",
    "    def __init__(self):\n",
    "        super(MyNetwork, self).__init__()\n",
    "        self.model = nn.Sequential(\n",
    "            nn.Conv2d(in_channels = 3, out_channels = 6, kernel_size = 5),\n",
    "            nn.ReLU(),\n",
    "            nn.MaxPool2d(kernel_size = (4,4)),\n",
    "            nn.Conv2d(in_channels = 6, out_channels = 16, kernel_size = 5),\n",
    "            nn.ReLU(),\n",
    "            nn.MaxPool2d(kernel_size = (4,4)),\n",
    "            nn.Flatten(),\n",
    "            nn.Linear(in_features = 2304, out_features = 1024, bias=True),\n",
    "            nn.ReLU(),\n",
    "            nn.Linear(in_features = 1024, out_features = len(name_label), bias = True),\n",
    "        )\n",
    "    def forward(self, x):\n",
    "        return self.model(x)"
   ]
  },
  {
   "cell_type": "code",
   "execution_count": 9,
   "metadata": {},
   "outputs": [],
   "source": [
    "def train(path = \"data/\", batch_size = 8, epochs = 20):\n",
    "    loss_arr = []\n",
    "    val_loss_arr = []\n",
    "     \n",
    "    if torch.cuda.is_available():\n",
    "        device = \"cuda\"\n",
    "    else:\n",
    "        device = \"cpu\"\n",
    "    print(\"Using {} device\".format(device))\n",
    "    model = MyNetwork().to(device)\n",
    "    print(model)\n",
    "    \n",
    "    transform_data =  {\n",
    "        'images': \n",
    "                transforms.Compose([\n",
    "                transforms.Resize((256, 256), interpolation = transforms.functional.InterpolationMode.BICUBIC),\n",
    "                transforms.CenterCrop((224, 224)),\n",
    "                transforms.Normalize(mean=[0.485, 0.456, 0.406], std=[0.229, 0.224, 0.225]),\n",
    "                ]),\n",
    "        'labels': \n",
    "                transforms.Compose([\n",
    "                transforms.Lambda(lambda y: name_label[y])\n",
    "                ])\n",
    "    }\n",
    "   \n",
    "    train_dataloader = DataLoader(LoadImageDataset(path + \"train.csv\", path + \"train_images/\", transform_data, typee='train'), batch_size = batch_size,  num_workers=2, shuffle=True)\n",
    "    val_dataloader = DataLoader(LoadImageDataset(path + \"train.csv\", path + \"train_images/\", transform_data, typee='val'), batch_size = batch_size,  num_workers=2, shuffle=True)\n",
    "    loss_fun = nn.CrossEntropyLoss()\n",
    "    optimizer = torch.optim.Adam(model.parameters(), lr=1e-3, weight_decay=1e-4)\n",
    "    \n",
    "    for epoch in range(epochs):\n",
    "        total_loss = 0\n",
    "        val_loss = 0\n",
    "        \n",
    "        for  dic in train_dataloader:\n",
    "            X = dic[\"image\"].to(device)\n",
    "            y = dic[\"label\"].to(device)\n",
    "            \n",
    "            # forward pass\n",
    "            y_preds = model(X)\n",
    "            loss = loss_fun(y_preds, y)\n",
    "            \n",
    "            # backpropagation\n",
    "            optimizer.zero_grad()\n",
    "            loss.backward()\n",
    "            optimizer.step()\n",
    "            total_loss += loss.item()\n",
    "            \n",
    "        for  dic in val_dataloader:\n",
    "            X = dic[\"image\"].to(device)\n",
    "            y = dic[\"label\"].to(device)\n",
    "            \n",
    "            y_preds = model(X)\n",
    "            loss = loss_fun(y_preds, y)\n",
    "            val_loss += loss.item()\n",
    "       \n",
    "        total_loss /= len(train_dataloader.dataset)\n",
    "        val_loss /= len(val_dataloader.dataset)\n",
    "        loss_arr.append(total_loss)\n",
    "        val_loss_arr.append(val_loss)\n",
    "        \n",
    "        print(\"Epoch: \"+ str(epoch+1) + \" | loss: \"+str(total_loss) + \" | val loss: \"+str(val_loss), flush = True)\n",
    "    \n",
    "    return loss_arr, val_loss_arr\n",
    "\n",
    "\n",
    "def plot(loss_arr, val_loss_arr):\n",
    "    ind = np.arange(1, len(loss_arr)+1)\n",
    "    plt.plot(ind, np.array(loss_arr))\n",
    "    plt.plot(ind, np.array(val_loss_arr))\n",
    "    plt.legend(['Train', 'Val'], loc='upper left')\n"
   ]
  },
  {
   "cell_type": "code",
   "execution_count": 6,
   "metadata": {},
   "outputs": [
    {
     "name": "stdout",
     "output_type": "stream",
     "text": [
      "Using cuda device\n",
      "MyNetwork(\n",
      "  (model): Sequential(\n",
      "    (0): Conv2d(3, 6, kernel_size=(5, 5), stride=(1, 1))\n",
      "    (1): ReLU()\n",
      "    (2): MaxPool2d(kernel_size=(4, 4), stride=(4, 4), padding=0, dilation=1, ceil_mode=False)\n",
      "    (3): Conv2d(6, 16, kernel_size=(5, 5), stride=(1, 1))\n",
      "    (4): ReLU()\n",
      "    (5): MaxPool2d(kernel_size=(4, 4), stride=(4, 4), padding=0, dilation=1, ceil_mode=False)\n",
      "    (6): Flatten(start_dim=1, end_dim=-1)\n",
      "    (7): Linear(in_features=2304, out_features=1024, bias=True)\n",
      "    (8): ReLU()\n",
      "    (9): Linear(in_features=1024, out_features=62, bias=True)\n",
      "  )\n",
      ")\n",
      "Epoch: 1 | loss: 0.43115785341792634 | val loss: 0.3737389801456463\n",
      "Epoch: 2 | loss: 0.37449978870815703 | val loss: 0.32677863367570814\n",
      "Epoch: 3 | loss: 0.32447120016151004 | val loss: 0.25530038677132905\n",
      "Epoch: 4 | loss: 0.253207004348437 | val loss: 0.16260207760444736\n",
      "Epoch: 5 | loss: 0.15011330659190814 | val loss: 0.09886328124040421\n",
      "Epoch: 6 | loss: 0.07330350698220234 | val loss: 0.06512524584025699\n",
      "Epoch: 7 | loss: 0.04242099625556471 | val loss: 0.08378511827277602\n",
      "Epoch: 8 | loss: 0.03254210029481005 | val loss: 0.06217658937902942\n",
      "Epoch: 9 | loss: 0.033874073400050594 | val loss: 0.08102743682269894\n",
      "Epoch: 10 | loss: 0.02385851571152307 | val loss: 0.09335671523412914\n"
     ]
    }
   ],
   "source": [
    "epochs = 10\n",
    "loss_arr, val_loss_arr = train(epochs = epochs)\n"
   ]
  },
  {
   "cell_type": "code",
   "execution_count": 17,
   "metadata": {},
   "outputs": [
    {
     "data": {
      "image/png": "[encoded data removed]",
      "text/plain": [
       "<Figure size 432x288 with 1 Axes>"
      ]
     },
     "metadata": {
      "needs_background": "light"
     },
     "output_type": "display_data"
    }
   ],
   "source": [
    "plot(loss_arr, val_loss_arr)"
   ]
  },
  {
   "cell_type": "markdown",
   "metadata": {},
   "source": [
    "## Playing with layers"
   ]
  },
  {
   "cell_type": "markdown",
   "metadata": {},
   "source": [
    "### Add BatchNorm"
   ]
  },
  {
   "cell_type": "code",
   "execution_count": 10,
   "metadata": {},
   "outputs": [],
   "source": [
    "class MyNetwork(nn.Module):\n",
    "    def __init__(self):\n",
    "        super(MyNetwork, self).__init__()\n",
    "        self.model = nn.Sequential(\n",
    "            nn.Conv2d(in_channels = 3, out_channels = 6, kernel_size = 5),\n",
    "            nn.ReLU(),\n",
    "            nn.BatchNorm2d(num_features = 6),\n",
    "            nn.MaxPool2d(kernel_size = (4,4)),\n",
    "           \n",
    "            nn.Conv2d(in_channels = 6, out_channels = 16, kernel_size = 5),\n",
    "            nn.ReLU(),\n",
    "            nn.BatchNorm2d(num_features = 16),\n",
    "            nn.MaxPool2d(kernel_size = (4,4)),\n",
    "            nn.Flatten(),\n",
    "            \n",
    "            nn.Linear(in_features = 2304, out_features = 1024, bias=True),\n",
    "            nn.ReLU(),\n",
    "            nn.Linear(in_features = 1024, out_features = len(name_label), bias = True),\n",
    "        )\n",
    "    def forward(self, x):\n",
    "        return self.model(x)"
   ]
  },
  {
   "cell_type": "code",
   "execution_count": 12,
   "metadata": {},
   "outputs": [],
   "source": [
    "def plot(loss_arr, val_loss_arr):\n",
    "    ind = np.arange(1, len(loss_arr)+1)\n",
    "    plt.plot(ind, np.array(loss_arr))\n",
    "    plt.plot(ind, np.array(val_loss_arr))\n",
    "    plt.legend(['Train', 'Val'], loc='upper left')"
   ]
  },
  {
   "cell_type": "code",
   "execution_count": 11,
   "metadata": {},
   "outputs": [
    {
     "name": "stdout",
     "output_type": "stream",
     "text": [
      "Using cuda device\n",
      "MyNetwork(\n",
      "  (model): Sequential(\n",
      "    (0): Conv2d(3, 6, kernel_size=(5, 5), stride=(1, 1))\n",
      "    (1): ReLU()\n",
      "    (2): BatchNorm2d(6, eps=1e-05, momentum=0.1, affine=True, track_running_stats=True)\n",
      "    (3): MaxPool2d(kernel_size=(4, 4), stride=(4, 4), padding=0, dilation=1, ceil_mode=False)\n",
      "    (4): Conv2d(6, 16, kernel_size=(5, 5), stride=(1, 1))\n",
      "    (5): ReLU()\n",
      "    (6): BatchNorm2d(16, eps=1e-05, momentum=0.1, affine=True, track_running_stats=True)\n",
      "    (7): MaxPool2d(kernel_size=(4, 4), stride=(4, 4), padding=0, dilation=1, ceil_mode=False)\n",
      "    (8): Flatten(start_dim=1, end_dim=-1)\n",
      "    (9): Linear(in_features=2304, out_features=1024, bias=True)\n",
      "    (10): ReLU()\n",
      "    (11): Linear(in_features=1024, out_features=62, bias=True)\n",
      "  )\n",
      ")\n",
      "Epoch: 1 | loss: 0.43840400060017903 | val loss: 0.38590429810916677\n",
      "Epoch: 2 | loss: 0.37782835817337035 | val loss: 0.35839655672433574\n",
      "Epoch: 3 | loss: 0.35302804372045726 | val loss: 0.32978825118888644\n",
      "Epoch: 4 | loss: 0.32969096252653335 | val loss: 0.3163296312739606\n",
      "Epoch: 5 | loss: 0.3058545863495933 | val loss: 0.27122215349976864\n",
      "Epoch: 6 | loss: 0.28371607161892787 | val loss: 0.2646168900348085\n",
      "Epoch: 7 | loss: 0.256258575240771 | val loss: 0.22639663263740184\n",
      "Epoch: 8 | loss: 0.22665127517117395 | val loss: 0.18796784839024855\n",
      "Epoch: 9 | loss: 0.19017422018779648 | val loss: 0.14761938500699612\n",
      "Epoch: 10 | loss: 0.1545239580956598 | val loss: 0.13246433220042533\n"
     ]
    },
    {
     "data": {
      "image/png": "[encoded data removed]",
      "text/plain": [
       "<Figure size 432x288 with 1 Axes>"
      ]
     },
     "metadata": {
      "needs_background": "light"
     },
     "output_type": "display_data"
    }
   ],
   "source": [
    "epochs = 10\n",
    "loss_arr, val_loss_arr = train(epochs = epochs)\n",
    "\n",
    "    \n",
    "plot(loss_arr, val_loss_arr)"
   ]
  },
  {
   "cell_type": "code",
   "execution_count": 13,
   "metadata": {},
   "outputs": [
    {
     "data": {
      "image/png": "[encoded data removed]",
      "text/plain": [
       "<Figure size 432x288 with 1 Axes>"
      ]
     },
     "metadata": {
      "needs_background": "light"
     },
     "output_type": "display_data"
    }
   ],
   "source": [
    "plot(loss_arr, val_loss_arr)"
   ]
  },
  {
   "cell_type": "markdown",
   "metadata": {},
   "source": [
    "### Max-pool "
   ]
  },
  {
   "cell_type": "code",
   "execution_count": 21,
   "metadata": {},
   "outputs": [
    {
     "name": "stdout",
     "output_type": "stream",
     "text": [
      "Using cuda device\n",
      "MyNetwork(\n",
      "  (model): Sequential(\n",
      "    (0): Conv2d(3, 6, kernel_size=(5, 5), stride=(1, 1))\n",
      "    (1): ReLU()\n",
      "    (2): MaxPool2d(kernel_size=(4, 4), stride=(4, 4), padding=0, dilation=1, ceil_mode=False)\n",
      "    (3): Conv2d(6, 16, kernel_size=(5, 5), stride=(1, 1))\n",
      "    (4): ReLU()\n",
      "    (5): MaxPool2d(kernel_size=(4, 4), stride=(4, 4), padding=0, dilation=1, ceil_mode=False)\n",
      "    (6): Flatten(start_dim=1, end_dim=-1)\n",
      "    (7): Linear(in_features=2304, out_features=1024, bias=True)\n",
      "    (8): ReLU()\n",
      "    (9): Linear(in_features=1024, out_features=62, bias=True)\n",
      "  )\n",
      ")\n",
      "Epoch: 1 | loss: 0.42873276201883953 | val loss: 0.3876085547101756\n",
      "Epoch: 2 | loss: 0.37204592349794174 | val loss: 0.3464291763748547\n",
      "Epoch: 3 | loss: 0.3301573458181487 | val loss: 0.28066846645284366\n",
      "Epoch: 4 | loss: 0.27537110828359923 | val loss: 0.19500990622552924\n",
      "Epoch: 5 | loss: 0.20136767445670234 | val loss: 0.13830653063653053\n",
      "Epoch: 6 | loss: 0.12743693989970617 | val loss: 0.07076746013142377\n",
      "Epoch: 7 | loss: 0.07589089287724346 | val loss: 0.05219442660894372\n",
      "Epoch: 8 | loss: 0.05001972222742107 | val loss: 0.061933588069335965\n",
      "Epoch: 9 | loss: 0.041820416371396274 | val loss: 0.0473495836646495\n",
      "Epoch: 10 | loss: 0.03597914571961802 | val loss: 0.05314196252226058\n"
     ]
    },
    {
     "data": {
      "image/png": "[encoded data removed]",
      "text/plain": [
       "<Figure size 432x288 with 1 Axes>"
      ]
     },
     "metadata": {
      "needs_background": "light"
     },
     "output_type": "display_data"
    }
   ],
   "source": [
    "class MyNetwork(nn.Module):\n",
    "    def __init__(self):\n",
    "        super(MyNetwork, self).__init__()\n",
    "        self.model = nn.Sequential(\n",
    "            nn.Conv2d(in_channels = 3, out_channels = 6, kernel_size = 5),\n",
    "            nn.ReLU(),\n",
    "            nn.MaxPool2d(kernel_size = (4,4)),\n",
    "           \n",
    "            nn.Conv2d(in_channels = 6, out_channels = 16, kernel_size = 5),\n",
    "            nn.ReLU(),\n",
    "            nn.MaxPool2d(kernel_size = (4,4)),\n",
    "            nn.Flatten(),\n",
    "            \n",
    "            nn.Linear(in_features = 2304, out_features = 1024, bias=True),\n",
    "            nn.ReLU(),\n",
    "            nn.Linear(in_features = 1024, out_features = len(name_label), bias = True),\n",
    "        )\n",
    "    def forward(self, x):\n",
    "        return self.model(x)\n",
    "\n",
    "epochs = 10\n",
    "loss_arr, val_loss_arr = train(epochs = epochs)\n",
    "plot(loss_arr, val_loss_arr)"
   ]
  },
  {
   "cell_type": "markdown",
   "metadata": {},
   "source": [
    "### Avg Pool"
   ]
  },
  {
   "cell_type": "code",
   "execution_count": 6,
   "metadata": {},
   "outputs": [
    {
     "name": "stdout",
     "output_type": "stream",
     "text": [
      "Using cuda device\n",
      "MyNetwork(\n",
      "  (model): Sequential(\n",
      "    (0): Conv2d(3, 6, kernel_size=(5, 5), stride=(1, 1))\n",
      "    (1): ReLU()\n",
      "    (2): AvgPool2d(kernel_size=(4, 4), stride=(4, 4), padding=0)\n",
      "    (3): Conv2d(6, 16, kernel_size=(5, 5), stride=(1, 1))\n",
      "    (4): ReLU()\n",
      "    (5): AvgPool2d(kernel_size=(4, 4), stride=(4, 4), padding=0)\n",
      "    (6): Flatten(start_dim=1, end_dim=-1)\n",
      "    (7): Linear(in_features=2304, out_features=1024, bias=True)\n",
      "    (8): ReLU()\n",
      "    (9): Linear(in_features=1024, out_features=62, bias=True)\n",
      "  )\n",
      ")\n",
      "Epoch: 1 | loss: 0.4323432862361272 | val loss: 0.3757481892411554\n",
      "Epoch: 2 | loss: 0.37942390710777707 | val loss: 0.3360195344446613\n",
      "Epoch: 3 | loss: 0.34041985796557533 | val loss: 0.2829319574515517\n",
      "Epoch: 4 | loss: 0.2851017156905598 | val loss: 0.2053627560013219\n",
      "Epoch: 5 | loss: 0.20402453989452785 | val loss: 0.12011269925179496\n",
      "Epoch: 6 | loss: 0.1160483955591917 | val loss: 0.07556830324670848\n",
      "Epoch: 7 | loss: 0.06706186011744042 | val loss: 0.05351358137148268\n",
      "Epoch: 8 | loss: 0.050503132804684964 | val loss: 0.05944964736873059\n",
      "Epoch: 9 | loss: 0.03708658915997431 | val loss: 0.05852221911008997\n",
      "Epoch: 10 | loss: 0.034837249349505224 | val loss: 0.05576204767323823\n"
     ]
    },
    {
     "data": {
      "image/png": "[encoded data removed]",
      "text/plain": [
       "<Figure size 432x288 with 1 Axes>"
      ]
     },
     "metadata": {
      "needs_background": "light"
     },
     "output_type": "display_data"
    }
   ],
   "source": [
    "class MyNetwork(nn.Module):\n",
    "    def __init__(self):\n",
    "        super(MyNetwork, self).__init__()\n",
    "        self.model = nn.Sequential(\n",
    "            nn.Conv2d(in_channels = 3, out_channels = 6, kernel_size = 5),\n",
    "            nn.ReLU(),\n",
    "            nn.AvgPool2d(kernel_size = (4,4)),\n",
    "           \n",
    "            nn.Conv2d(in_channels = 6, out_channels = 16, kernel_size = 5),\n",
    "            nn.ReLU(),\n",
    "            nn.AvgPool2d(kernel_size = (4,4)),\n",
    "            nn.Flatten(),\n",
    "            \n",
    "            nn.Linear(in_features = 2304, out_features = 1024, bias=True),\n",
    "            nn.ReLU(),\n",
    "            nn.Linear(in_features = 1024, out_features = len(name_label), bias = True),\n",
    "        )\n",
    "    def forward(self, x):\n",
    "        return self.model(x)\n",
    "\n",
    "epochs = 10\n",
    "loss_arr, val_loss_arr = train(epochs = epochs)\n",
    "plot(loss_arr, val_loss_arr)"
   ]
  },
  {
   "cell_type": "markdown",
   "metadata": {},
   "source": [
    "### Dropout"
   ]
  },
  {
   "cell_type": "code",
   "execution_count": 13,
   "metadata": {},
   "outputs": [],
   "source": [
    "class MyNetwork(nn.Module):\n",
    "    def __init__(self):\n",
    "        super(MyNetwork, self).__init__()\n",
    "        self.model = nn.Sequential(\n",
    "            nn.Conv2d(in_channels = 3, out_channels = 6, kernel_size = 5),\n",
    "            nn.ReLU(),\n",
    "            nn.MaxPool2d(kernel_size = (4,4)),\n",
    "            nn.Dropout(0.2),\n",
    "            nn.Conv2d(in_channels = 6, out_channels = 16, kernel_size = 5),\n",
    "            nn.ReLU(),\n",
    "            nn.Dropout(0.2),\n",
    "            nn.MaxPool2d(kernel_size = (4,4)),\n",
    "            nn.Flatten(),\n",
    "            nn.Linear(in_features = 2304, out_features = 1024, bias=True),\n",
    "            nn.ReLU(),\n",
    "            nn.Dropout(0.2),\n",
    "            nn.Linear(in_features = 1024, out_features = len(name_label), bias = True),\n",
    "        )\n",
    "    def forward(self, x):\n",
    "        return self.model(x)"
   ]
  },
  {
   "cell_type": "code",
   "execution_count": 14,
   "metadata": {},
   "outputs": [
    {
     "name": "stdout",
     "output_type": "stream",
     "text": [
      "Using cuda device\n",
      "MyNetwork(\n",
      "  (model): Sequential(\n",
      "    (0): Conv2d(3, 6, kernel_size=(5, 5), stride=(1, 1))\n",
      "    (1): ReLU()\n",
      "    (2): MaxPool2d(kernel_size=(4, 4), stride=(4, 4), padding=0, dilation=1, ceil_mode=False)\n",
      "    (3): Dropout(p=0.2, inplace=False)\n",
      "    (4): Conv2d(6, 16, kernel_size=(5, 5), stride=(1, 1))\n",
      "    (5): ReLU()\n",
      "    (6): Dropout(p=0.2, inplace=False)\n",
      "    (7): MaxPool2d(kernel_size=(4, 4), stride=(4, 4), padding=0, dilation=1, ceil_mode=False)\n",
      "    (8): Flatten(start_dim=1, end_dim=-1)\n",
      "    (9): Linear(in_features=2304, out_features=1024, bias=True)\n",
      "    (10): ReLU()\n",
      "    (11): Dropout(p=0.2, inplace=False)\n",
      "    (12): Linear(in_features=1024, out_features=62, bias=True)\n",
      "  )\n",
      ")\n",
      "Epoch: 1 | loss: 0.4374965315262477 | val loss: 0.4274996006082824\n",
      "Epoch: 2 | loss: 0.38711130575339 | val loss: 0.38270262446565895\n",
      "Epoch: 3 | loss: 0.3500419602261649 | val loss: 0.3380419001121639\n",
      "Epoch: 4 | loss: 0.3011309941013654 | val loss: 0.26708809694638563\n",
      "Epoch: 5 | loss: 0.24217918188373247 | val loss: 0.19842642970129432\n",
      "Epoch: 6 | loss: 0.18163617539902527 | val loss: 0.15162067424402148\n",
      "Epoch: 7 | loss: 0.13239254411889448 | val loss: 0.0917116469550797\n",
      "Epoch: 8 | loss: 0.1028808069953488 | val loss: 0.08559710052637123\n",
      "Epoch: 9 | loss: 0.08359115573246446 | val loss: 0.07430424038378447\n",
      "Epoch: 10 | loss: 0.06804319472724779 | val loss: 0.06826501812255327\n"
     ]
    },
    {
     "data": {
      "image/png": "[encoded data removed]",
      "text/plain": [
       "<Figure size 432x288 with 1 Axes>"
      ]
     },
     "metadata": {
      "needs_background": "light"
     },
     "output_type": "display_data"
    }
   ],
   "source": [
    "epochs = 10\n",
    "loss_arr, val_loss_arr = train(epochs = epochs)\n",
    "plot(loss_arr, val_loss_arr)"
   ]
  },
  {
   "cell_type": "markdown",
   "metadata": {},
   "source": [
    "### **With Batch Norm**\n",
    "* Batch normalization regularizes the network which prevents overfitting.\n",
    "* Helps in resolving vanishing gradient problem.\n",
    "* Faster convergences and better performance.\n",
    "\n",
    "\n",
    "### **Adding new layers**\n",
    "* Might increase perfomance (as visible from loss graphs)\n",
    "* Chances of overfitting.\n",
    "\n",
    "\n",
    "### **With Dropout**\n",
    "* Regulation method.\n",
    "* Reduces overfitting.\n",
    "* Drop some of neurons randomly.\n",
    "* Improved loss in some cases as shown.\n",
    "\n",
    "### **Different activation functions at the end**\n",
    "* **Softmax**\n",
    " $$\\text{Softmax}(x_{i}) = \\frac{\\exp(x_i)}{\\sum_j \\exp(x_j)} $$\n",
    "    * Used in Multi-class classification.\n",
    "    * Softmax activation gives a probability distribution (the outputs sum to one and each output is between 0-1)\n",
    "    * Thus we use Softmax at end layer when class labels are mutually exclusive(which is in our case!)\n",
    "\n",
    "    \n",
    "    \n",
    "<!-- * **KL Divergence**\n",
    "![caption](attachments/KL.png)\n",
    "    * Measures distance between probability distributions.\n",
    "\n",
    "     -->\n",
    "    \n",
    "Note: Sigmoid is used in binary classification (hence can'nt be used in our case)\n",
    " $$ h_ \\theta (x) = \\frac{\\mathrm{1} }{\\mathrm{1} + e^- \\theta^Tx }$$\n",
    "\n",
    "* Leaky ReLU and ReLU were tried in between layers. Leaky Relu helps prevent vanishing gradient problem and thus helped in loss.\n",
    "\n",
    "\n",
    "### **Different pooling strategies**\n",
    "* **Max pooling**\n",
    "    * Max pooling is a sample-based discretization process. \n",
    "    * Used to reduce dimensionality of feature maps.\n",
    "    * Takes max operator over sliding window.\n",
    "* **Avg Pooling**\n",
    "    * Takes Avg operator over sliding window.\n",
    "    \n",
    "Max pooling was found to perfom better.\n",
    "\n",
    "### **Different optimizers**\n",
    "* **SGD**\n",
    "    * Stochastic Gradience Descent\n",
    "    * Suffers from vanishing gradient problem.\n",
    "    \n",
    "* **RMSProp**\n",
    "    * Helps in vanishing gradient.\n",
    "    * Uses an adaptive learning rate\n",
    "    * Uses a moving average of squared gradients to normalize the gradient. \n",
    "    * This normalization balances the step size  (momentum)\n",
    "    * Decreases the step for large gradients to avoid exploding\n",
    "    * Increases the step for small gradients to avoid vanishing. \n",
    "\n",
    "* **Adagrad (Adaptive Gradient Algorithm)**\n",
    "    * For a sparse feature input where most of the values are zero, we can afford a higher learning rate which will boost the dying gradient resulted from these sparse features. If we have dense data, then we can have slower learning. \n",
    "    * Adjusts the learning rate according to values of gradient incurred.\n",
    "    * When larger updates take smaller learning rate.\n",
    "    * When smaller updates increase learning rate.\n",
    "\n",
    "* **Adam**\n",
    "    * Adam combines the best properties of the AdaGrad and RMSProp algorithms to provide an optimization algorithm that can handle sparse gradients on noisy problems.\n",
    "    * Adam is relatively easy to configure where the default configuration parameters do well on most problems.\n",
    "    \n",
    " \n",
    "SGD Could'nt converge well.\n",
    "\n",
    "We observed the best convergence and model performance in Adam.\n",
    "\n",
    "\n",
    "   \n",
    "\n",
    "### **Basic Augmentation like Rotation, Translation, Color Change**\n",
    "* Augmentation is used to add robustness to the train data. \n",
    "* Helps to improve the performance of model.\n",
    "\n"
   ]
  },
  {
   "cell_type": "markdown",
   "metadata": {},
   "source": [
    "## Bonus\n",
    "### Residual Blocks\n",
    "### Different learning strategies\n",
    "### CutMix Augmentation"
   ]
  }
 ],
 "metadata": {
  "kernelspec": {
   "display_name": "Python 3",
   "language": "python",
   "name": "python3"
  },
  "language_info": {
   "codemirror_mode": {
    "name": "ipython",
    "version": 3
   },
   "file_extension": ".py",
   "mimetype": "text/x-python",
   "name": "python",
   "nbconvert_exporter": "python",
   "pygments_lexer": "ipython3",
   "version": "3.8.5"
  }
 },
 "nbformat": 4,
 "nbformat_minor": 4
}
